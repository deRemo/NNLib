{
 "cells": [
  {
   "cell_type": "code",
   "execution_count": 44,
   "metadata": {},
   "outputs": [],
   "source": [
    "import numpy as np\n",
    "import matplotlib.pyplot as plt\n",
    "from sklearn.datasets import make_moons\n",
    "\n",
    "from time import time\n",
    "import copy"
   ]
  },
  {
   "cell_type": "code",
   "execution_count": 45,
   "metadata": {},
   "outputs": [],
   "source": [
    "#handler function to make easier the choice's logic \n",
    "def activations(f):\n",
    "        act = {\n",
    "            'sigmoid': (lambda x: sigmoid(x), lambda x: d_sigmoid(x)),\n",
    "            'tanh': (lambda x: tanh(x), lambda x: d_tanh(x)),\n",
    "            'reLU': (lambda x: 0 if(x<0) else x, lambda x: 0 if(x<0) else 1)\n",
    "        }\n",
    "        return act[f]\n",
    "\n",
    "#implementation of activation functions\n",
    "#\n",
    "def sigmoid(x):\n",
    "    return 1/(1+np.exp(-x))\n",
    "\n",
    "def d_sigmoid(x):\n",
    "    return sigmoid(x)*(1-sigmoid(x))\n",
    "#\n",
    "def tanh(x):\n",
    "    return (np.exp(x) - np.exp(-x)) / (np.exp(x) + np.exp(-x))\n",
    "\n",
    "def d_tanh(x):\n",
    "    return 1 - (tanh(x) * tanh(x))"
   ]
  },
  {
   "cell_type": "code",
   "execution_count": 46,
   "metadata": {},
   "outputs": [],
   "source": [
    "#benchmark's purpose\n",
    "class Timer:\n",
    "    def __init__(self):\n",
    "        pass\n",
    "    \n",
    "    def start(self):\n",
    "        self.time = time()\n",
    "    \n",
    "    def stop(self):\n",
    "        self.delta = time() - self.time\n",
    "    \n",
    "    def get(self):\n",
    "        return self.delta"
   ]
  },
  {
   "cell_type": "code",
   "execution_count": 47,
   "metadata": {},
   "outputs": [],
   "source": [
    "#Layer's attributes:\n",
    "    #input - the input to the layer\n",
    "    #net - the network input of the layer (dot product between input and weights)\n",
    "    #out - the outuput of the layer(= f(net))\n",
    "\n",
    "    #f - the activation function to use\n",
    "    #d_f - the derivative of the activation function (doesn't always exist)\n",
    "\n",
    "    #num_units - how many units in the layer\n",
    "    #input_size - how many input per unit\n",
    "\n",
    "    #weights - how many weights per unit\n",
    "    #d_weights - the values to apply to the weights during training in order to modify them\n",
    "    #bias - the bias applied to the layer\n",
    "\n",
    "class Layer:\n",
    "    def __init__(self, num_units, pair_f, input_size): #pair_f = (f, d_f)\n",
    "        np.random.seed(0) #to remove, debug's purpose\n",
    "        \n",
    "        self.f = pair_f[0]\n",
    "        self.d_f = pair_f[1]\n",
    "        self.num_units = num_units \n",
    "        self.input_size = input_size\n",
    "        self.weights = np.random.rand(input_size, num_units)\n",
    "        self.bias = np.random.rand(1, num_units)"
   ]
  },
  {
   "cell_type": "code",
   "execution_count": 71,
   "metadata": {},
   "outputs": [],
   "source": [
    "class NeuralNetwork:\n",
    "    def __init__(self):\n",
    "        self.layers = []\n",
    "    \n",
    "    #Adding input layer(first hidden layer): you must specify the input_size\n",
    "    #Adding hidden/output layer: if the layer is dense, the input_size is inferred from the previous layer\n",
    "    def add_layer(self, l, num_units, f, input_size=None):\n",
    "        if(l == \"dense\" or l == \"Dense\" or l == \"d\" or l == \"D\"):\n",
    "            if(input_size == None):\n",
    "                input_size = self.layers[-1].num_units\n",
    "            self.layers.append(Layer(num_units, activations(f), input_size))\n",
    "        \n",
    "    def feed_forward(self, batch):\n",
    "        current_input = batch\n",
    "        for l in self.layers:\n",
    "            l.input = current_input\n",
    "            l.net = np.dot(l.input, l.weights) + l.bias # dot(in,w)+bias\n",
    "            l.out = l.f(l.net)\n",
    "            \n",
    "            current_input = l.out\n",
    "        return current_input\n",
    "    \n",
    "    def back_propagation(self, FF_output, targets, lr):\n",
    "        err_signal=0\n",
    "        bp=0\n",
    "            \n",
    "        self.layers.reverse()\n",
    "        for index,l in enumerate(self.layers):\n",
    "            #weight update & backprop sum\n",
    "            if(index==0): #OUTPUT LAYER\n",
    "                err = targets - FF_output\n",
    "                err_signal = err * l.d_f(l.net)\n",
    "                l.d_weights = np.dot(l.input.T, err_signal)\n",
    "                \n",
    "                bp = err_signal * l.weights.T\n",
    "            else: #HIDDEN LAYERS\n",
    "                err_signal = err * l.d_f(l.net)\n",
    "                l.d_weights = np.dot(l.input.T, err_signal)\n",
    "                \n",
    "                bp = err_signal\n",
    "            l.weights += lr * l.d_weights\n",
    "            \n",
    "            #bias update\n",
    "            l.bias += np.sum(lr*err_signal, axis=0)\n",
    "        self.layers.reverse()\n",
    "        \n",
    "        #compute loss and accuracy\n",
    "        loss = np.sum(err, axis=0)\n",
    "        accuracy = self.get_accuracy(err)\n",
    "        \n",
    "        return loss, accuracy\n",
    "    \n",
    "    def train(self,batch, targets, lr):\n",
    "        return self.back_propagation(self.feed_forward(batch), targets, lr)\n",
    "        \n",
    "    def fit(self, dataset, targets, lr, batch_size=None, train_ratio=1.0, epochs=1, patience=5): \n",
    "        timer = Timer()\n",
    "        timer.start()\n",
    "        \n",
    "        if batch_size is None:\n",
    "            batch_size = dataset.shape[0]\n",
    "            \n",
    "        if train_ratio < 0.0 or train_ratio > 1.0:\n",
    "            print(\"ERROR, train_ratio is a percentage\")\n",
    "            return -1\n",
    "        train_set, valid_set = self.dataset_ratio_split(dataset, train_ratio)\n",
    "        train_targets, valid_targets = self.dataset_ratio_split(targets.T, train_ratio)\n",
    "        \n",
    "        err = 0\n",
    "        best_accuracy = float(\"-inf\")\n",
    "        best_loss = 0\n",
    "        best_model = 0\n",
    "        arr_loss = []\n",
    "        arr_accuracy = []\n",
    "        running = True\n",
    "        for i in range(0, epochs):\n",
    "            if running == False:\n",
    "                break\n",
    "                \n",
    "            batches = self.dataset_batch_split(train_set, batch_size)\n",
    "            batches_targets = self.dataset_batch_split(train_targets, batch_size)\n",
    "            \n",
    "            for index,batch in enumerate(batches):\n",
    "                batch_target = batches_targets[index]\n",
    "                tr_loss, tr_accuracy = self.train(batch, batch_target, lr)\n",
    "                arr_loss.append(tr_loss)\n",
    "                arr_accuracy.append(tr_accuracy)\n",
    "                \n",
    "                if(tr_accuracy >= 0.9 and (tr_loss <= 0.05 or tr_loss >= -0.05):\n",
    "                    print(\"break at epoch \", i)\n",
    "                    print(tr_loss, \" \", tr_accuracy)\n",
    "                    running = False\n",
    "                    break;\n",
    "                '''\n",
    "                if valid_set.size != 0 and valid_targets.size !=0:\n",
    "                    vl_loss, vl_accuracy = self.evaluate(valid_set, valid_targets)\n",
    "\n",
    "                    if(vl_accuracy > best_accuracy):\n",
    "                        best_accuracy = vl_accuracy\n",
    "                        best_loss = vl_loss\n",
    "                        best_model = copy.deepcopy(self)\n",
    "                    else:\n",
    "                        if(patience != 0):\n",
    "                            patience = patience - 1\n",
    "                        else:\n",
    "                            self = best_model\n",
    "                            print(\"break at epoch \", i)\n",
    "                            break;\n",
    "                '''\n",
    "                if i == epochs-1:\n",
    "                    print(\"tr - loss \", tr_loss, \" accuracy \", tr_accuracy)\n",
    "                    print(\"vl - loss \", best_loss, \" accuracy \", best_accuracy)\n",
    "                #print(\"epoch \", i, \"\\nerr_tot \\n\", loss)\n",
    "        \n",
    "        plt.figure(figsize=(24, 10))\n",
    "        plt.subplot(221)\n",
    "        plt.plot(range(2, len(arr_loss)+2), arr_loss, 'r-', label=\"loss\")\n",
    "        plt.title(\"loss\")\n",
    "        #plt.legend(bbox_to_anchor=(1.05, 1), loc=2, borderaxespad=0.)\n",
    "        \n",
    "        plt.subplot(222)\n",
    "        plt.plot(range(2, len(arr_accuracy)+2), arr_accuracy, 'b-', label=\"accuracy\")\n",
    "        plt.title(\"accuracy\")\n",
    "        #plt.legend(bbox_to_anchor=(1.05, 1), loc=2, borderaxespad=0.)\n",
    "        #print(\"epoch \", i, \"\\nerr_tot \\n\", tr_loss)\n",
    "        timer.stop()\n",
    "        print(\"elapsed: \\n\", timer.get(), \" ms\")\n",
    "    \n",
    "    def evaluate(self, dataset, targets):\n",
    "        out = self.feed_forward(dataset)\n",
    "        err = targets - out\n",
    "        loss = np.sum(err, axis=0)\n",
    "        accuracy = self.get_accuracy(err)\n",
    "        \n",
    "        return loss, accuracy\n",
    "        \n",
    "        \n",
    "    def predict(self, dataset):\n",
    "        out = self.feed_forward(dataset)\n",
    "        return out\n",
    "            \n",
    "    def dataset_ratio_split(self, dataset, train_percentage):\n",
    "        rows = dataset.shape[0]\n",
    "        train_size = np.int(np.around(rows * train_percentage))\n",
    "        \n",
    "        return np.array_split(dataset, [train_size])\n",
    "    \n",
    "    def dataset_batch_split(self, dataset, batch_size):\n",
    "        rows = dataset.shape[0]\n",
    "        \n",
    "        return np.array_split(dataset, rows/batch_size)\n",
    "    \n",
    "    def get_accuracy(self, err):\n",
    "        rounded = np.around(err)\n",
    "        accuracy = (rounded.size - np.count_nonzero(rounded))/rounded.size\n",
    "        \n",
    "        return accuracy\n",
    "        \n",
    "    def print_weights(self, label=\"w\"):\n",
    "        for i in range(0, len(nn.layers)):\n",
    "            print(label, \": layer \",i)\n",
    "            print(nn.layers[i].weights)\n",
    "            print(nn.layers[i].bias)"
   ]
  },
  {
   "cell_type": "code",
   "execution_count": 72,
   "metadata": {},
   "outputs": [
    {
     "data": {
      "text/plain": [
       "'\\nclass NeuralNetwork:\\n    def __init__(self):\\n        self.layers = []\\n    \\n    #Adding input layer(first hidden layer): you must specify the input_size\\n    #Adding hidden/output layer: if the layer is dense, the input_size is inferred from the previous layer\\n    def add_layer(self, l, num_units, f, input_size=None):\\n        if(l == \"dense\" or l == \"Dense\" or l == \"d\" or l == \"D\"):\\n            if(input_size == None):\\n                input_size = self.layers[-1].num_units\\n            self.layers.append(Layer(num_units, activations(f), input_size))\\n        \\n    def feed_forward(self, batch):\\n        current_input = batch\\n        for l in self.layers:\\n            l.input = current_input\\n            l.net = np.dot(l.input, l.weights) + l.bias # dot(in,w)+bias\\n            l.out = l.f(l.net)\\n            \\n            current_input = l.out\\n        return current_input\\n    \\n    def back_propagation(self, FF_output, targets, lr):\\n        err_signal=0\\n        bp=0\\n            \\n        self.layers.reverse()\\n        for index,l in enumerate(self.layers):\\n            #weight update & backprop sum\\n            if(index==0): #OUTPUT LAYER\\n                err = targets - FF_output\\n                err_signal = err * l.d_f(l.net)\\n                l.d_weights = np.dot(l.input.T, err_signal)\\n                \\n                bp = err_signal * l.weights.T\\n            else: #HIDDEN LAYERS\\n                err_signal = err * l.d_f(l.net)\\n                l.d_weights = np.dot(l.input.T, err_signal)\\n                \\n                bp = err_signal\\n            l.weights += lr * l.d_weights\\n            \\n            #bias update\\n            l.bias += np.sum(lr*err_signal, axis=0)\\n        self.layers.reverse()\\n        \\n        #compute loss and accuracy\\n        loss = np.sum(err, axis=0)\\n        accuracy = self.get_accuracy(err)\\n        \\n        return loss, accuracy\\n    \\n    def train(self,batch, targets, lr):\\n        return self.back_propagation(self.feed_forward(batch), targets, lr)\\n        \\n    def fit(self, dataset, targets, lr, batch_size=dataset.size, train_percentage=1.0, epochs=1, patience=5): \\n        timer = Timer()\\n        timer.start()\\n        \\n        if train_percentage < 0.0 or train_percentage > 1.0:\\n            print(\"ERROR, train_percentage is a percentage\")\\n            return -1\\n        train_set, valid_set = self.dataset_ratio_split(dataset, train_percentage)\\n        train_targets, valid_targets = self.dataset_ratio_split(targets.T, train_percentage)\\n        \\n        err = 0\\n        best_accuracy = float(\"-inf\")\\n        best_loss = 0\\n        best_model = 0\\n        arr_loss = []\\n        arr_accuracy = []\\n        for i in range(0, epochs):\\n            \\n            tr_loss, tr_accuracy = self.train(train_set, train_targets, lr)\\n            arr_loss.append(tr_loss)\\n            arr_accuracy.append(tr_accuracy)\\n            \\n            if valid_set.size != 0 and valid_targets.size !=0:\\n                vl_loss, vl_accuracy = self.evaluate(valid_set, valid_targets)\\n                \\n                if(vl_accuracy > best_accuracy):\\n                    best_accuracy = vl_accuracy\\n                    best_loss = vl_loss\\n                    best_model = copy.deepcopy(self)\\n                else:\\n                    if(patience != 0):\\n                        patience = patience - 1\\n                    else:\\n                        self = best_model\\n                        print(\"break at epoch \", i)\\n                        break;\\n            \\n            if i == epochs-1:\\n                print(\"tr - loss \", tr_loss, \" accuracy \", tr_accuracy)\\n                print(\"vl - loss \", best_loss, \" accuracy \", best_accuracy)\\n            #print(\"epoch \", i, \"\\nerr_tot \\n\", loss)\\n        plt.figure()\\n        plt.subplot(221)\\n        plt.plot(range(i+1), arr_loss, \\'r-\\', label=\"loss\")\\n        plt.title(\"loss\")\\n        #plt.legend(bbox_to_anchor=(1.05, 1), loc=2, borderaxespad=0.)\\n        \\n        plt.subplot(2,2,2)\\n        plt.plot(range(i+1), arr_accuracy, \\'b-\\', label=\"accuracy\")\\n        plt.title(\"accuracy\")\\n        #plt.legend(bbox_to_anchor=(1.05, 1), loc=2, borderaxespad=0.)\\n        #print(\"epoch \", i, \"\\nerr_tot \\n\", tr_loss)\\n        timer.stop()\\n        print(\"elapsed: \\n\", timer.get(), \" ms\")\\n    \\n    def evaluate(self, dataset, targets):\\n        out = self.feed_forward(dataset)\\n        err = targets - out\\n        loss = np.sum(err, axis=0)\\n        accuracy = self.get_accuracy(err)\\n        \\n        return loss, accuracy\\n        \\n        \\n    def predict(self, dataset):\\n        out = self.feed_forward(dataset)\\n        return out\\n            \\n    def dataset_ratio_split(self, dataset, train_percentage):\\n        rows = dataset.shape[0]\\n        train_size = np.int(np.around(rows * train_percentage))\\n        \\n        return np.array_split(dataset, [train_size])\\n    \\n    def dataset_batch_split(self, dataset, batch_size):\\n        rows = dataset.shape[0]\\n        \\n        return np.array_split(a, rows/batch_size)\\n    \\n    def get_accuracy(self, err):\\n        rounded = np.around(err)\\n        accuracy = (rounded.size - np.count_nonzero(rounded))/rounded.size\\n        \\n        return accuracy\\n        \\n    def print_weights(self, label=\"w\"):\\n        for i in range(0, len(nn.layers)):\\n            print(label, \": layer \",i)\\n            print(nn.layers[i].weights)\\n            print(nn.layers[i].bias)\\n'"
      ]
     },
     "execution_count": 72,
     "metadata": {},
     "output_type": "execute_result"
    }
   ],
   "source": [
    "'''\n",
    "class NeuralNetwork:\n",
    "    def __init__(self):\n",
    "        self.layers = []\n",
    "    \n",
    "    #Adding input layer(first hidden layer): you must specify the input_size\n",
    "    #Adding hidden/output layer: if the layer is dense, the input_size is inferred from the previous layer\n",
    "    def add_layer(self, l, num_units, f, input_size=None):\n",
    "        if(l == \"dense\" or l == \"Dense\" or l == \"d\" or l == \"D\"):\n",
    "            if(input_size == None):\n",
    "                input_size = self.layers[-1].num_units\n",
    "            self.layers.append(Layer(num_units, activations(f), input_size))\n",
    "        \n",
    "    def feed_forward(self, batch):\n",
    "        current_input = batch\n",
    "        for l in self.layers:\n",
    "            l.input = current_input\n",
    "            l.net = np.dot(l.input, l.weights) + l.bias # dot(in,w)+bias\n",
    "            l.out = l.f(l.net)\n",
    "            \n",
    "            current_input = l.out\n",
    "        return current_input\n",
    "    \n",
    "    def back_propagation(self, FF_output, targets, lr):\n",
    "        err_signal=0\n",
    "        bp=0\n",
    "            \n",
    "        self.layers.reverse()\n",
    "        for index,l in enumerate(self.layers):\n",
    "            #weight update & backprop sum\n",
    "            if(index==0): #OUTPUT LAYER\n",
    "                err = targets - FF_output\n",
    "                err_signal = err * l.d_f(l.net)\n",
    "                l.d_weights = np.dot(l.input.T, err_signal)\n",
    "                \n",
    "                bp = err_signal * l.weights.T\n",
    "            else: #HIDDEN LAYERS\n",
    "                err_signal = err * l.d_f(l.net)\n",
    "                l.d_weights = np.dot(l.input.T, err_signal)\n",
    "                \n",
    "                bp = err_signal\n",
    "            l.weights += lr * l.d_weights\n",
    "            \n",
    "            #bias update\n",
    "            l.bias += np.sum(lr*err_signal, axis=0)\n",
    "        self.layers.reverse()\n",
    "        \n",
    "        #compute loss and accuracy\n",
    "        loss = np.sum(err, axis=0)\n",
    "        accuracy = self.get_accuracy(err)\n",
    "        \n",
    "        return loss, accuracy\n",
    "    \n",
    "    def train(self,batch, targets, lr):\n",
    "        return self.back_propagation(self.feed_forward(batch), targets, lr)\n",
    "        \n",
    "    def fit(self, dataset, targets, lr, batch_size=dataset.size, train_percentage=1.0, epochs=1, patience=5): \n",
    "        timer = Timer()\n",
    "        timer.start()\n",
    "        \n",
    "        if train_percentage < 0.0 or train_percentage > 1.0:\n",
    "            print(\"ERROR, train_percentage is a percentage\")\n",
    "            return -1\n",
    "        train_set, valid_set = self.dataset_ratio_split(dataset, train_percentage)\n",
    "        train_targets, valid_targets = self.dataset_ratio_split(targets.T, train_percentage)\n",
    "        \n",
    "        err = 0\n",
    "        best_accuracy = float(\"-inf\")\n",
    "        best_loss = 0\n",
    "        best_model = 0\n",
    "        arr_loss = []\n",
    "        arr_accuracy = []\n",
    "        for i in range(0, epochs):\n",
    "            \n",
    "            tr_loss, tr_accuracy = self.train(train_set, train_targets, lr)\n",
    "            arr_loss.append(tr_loss)\n",
    "            arr_accuracy.append(tr_accuracy)\n",
    "            \n",
    "            if valid_set.size != 0 and valid_targets.size !=0:\n",
    "                vl_loss, vl_accuracy = self.evaluate(valid_set, valid_targets)\n",
    "                \n",
    "                if(vl_accuracy > best_accuracy):\n",
    "                    best_accuracy = vl_accuracy\n",
    "                    best_loss = vl_loss\n",
    "                    best_model = copy.deepcopy(self)\n",
    "                else:\n",
    "                    if(patience != 0):\n",
    "                        patience = patience - 1\n",
    "                    else:\n",
    "                        self = best_model\n",
    "                        print(\"break at epoch \", i)\n",
    "                        break;\n",
    "            \n",
    "            if i == epochs-1:\n",
    "                print(\"tr - loss \", tr_loss, \" accuracy \", tr_accuracy)\n",
    "                print(\"vl - loss \", best_loss, \" accuracy \", best_accuracy)\n",
    "            #print(\"epoch \", i, \"\\nerr_tot \\n\", loss)\n",
    "        plt.figure()\n",
    "        plt.subplot(221)\n",
    "        plt.plot(range(i+1), arr_loss, 'r-', label=\"loss\")\n",
    "        plt.title(\"loss\")\n",
    "        #plt.legend(bbox_to_anchor=(1.05, 1), loc=2, borderaxespad=0.)\n",
    "        \n",
    "        plt.subplot(2,2,2)\n",
    "        plt.plot(range(i+1), arr_accuracy, 'b-', label=\"accuracy\")\n",
    "        plt.title(\"accuracy\")\n",
    "        #plt.legend(bbox_to_anchor=(1.05, 1), loc=2, borderaxespad=0.)\n",
    "        #print(\"epoch \", i, \"\\nerr_tot \\n\", tr_loss)\n",
    "        timer.stop()\n",
    "        print(\"elapsed: \\n\", timer.get(), \" ms\")\n",
    "    \n",
    "    def evaluate(self, dataset, targets):\n",
    "        out = self.feed_forward(dataset)\n",
    "        err = targets - out\n",
    "        loss = np.sum(err, axis=0)\n",
    "        accuracy = self.get_accuracy(err)\n",
    "        \n",
    "        return loss, accuracy\n",
    "        \n",
    "        \n",
    "    def predict(self, dataset):\n",
    "        out = self.feed_forward(dataset)\n",
    "        return out\n",
    "            \n",
    "    def dataset_ratio_split(self, dataset, train_percentage):\n",
    "        rows = dataset.shape[0]\n",
    "        train_size = np.int(np.around(rows * train_percentage))\n",
    "        \n",
    "        return np.array_split(dataset, [train_size])\n",
    "    \n",
    "    def dataset_batch_split(self, dataset, batch_size):\n",
    "        rows = dataset.shape[0]\n",
    "        \n",
    "        return np.array_split(a, rows/batch_size)\n",
    "    \n",
    "    def get_accuracy(self, err):\n",
    "        rounded = np.around(err)\n",
    "        accuracy = (rounded.size - np.count_nonzero(rounded))/rounded.size\n",
    "        \n",
    "        return accuracy\n",
    "        \n",
    "    def print_weights(self, label=\"w\"):\n",
    "        for i in range(0, len(nn.layers)):\n",
    "            print(label, \": layer \",i)\n",
    "            print(nn.layers[i].weights)\n",
    "            print(nn.layers[i].bias)\n",
    "'''"
   ]
  },
  {
   "cell_type": "code",
   "execution_count": 73,
   "metadata": {},
   "outputs": [
    {
     "name": "stdout",
     "output_type": "stream",
     "text": [
      "break at epoch  155\n",
      "[-0.15770522]   1.0\n",
      "elapsed: \n",
      " 0.06702828407287598  ms\n"
     ]
    },
    {
     "data": {
      "text/plain": [
       "array([[0.32128929],\n",
       "       [0.2741243 ],\n",
       "       [0.50234391],\n",
       "       [0.33476944]])"
      ]
     },
     "execution_count": 73,
     "metadata": {},
     "output_type": "execute_result"
    },
    {
     "data": {
      "image/png": "[encoded data removed]",
      "text/plain": [
       "<Figure size 1728x720 with 2 Axes>"
      ]
     },
     "metadata": {
      "needs_background": "light"
     },
     "output_type": "display_data"
    }
   ],
   "source": [
    "#XOR PROBLEM\n",
    "dataset = np.array([[1,1], [0,1],[0,0]])\n",
    "targets = np.array([[0,1,0]])\n",
    "\n",
    "#the neural network\n",
    "nn = NeuralNetwork()\n",
    "nn.add_layer('dense', 1, 'sigmoid', dataset.shape[1]) #input layer\n",
    "#nn.add_layer('dense', 4, 'sigmoid')\n",
    "nn.add_layer('dense', 1, 'sigmoid')\n",
    "\n",
    "#fit and predict\n",
    "nn.fit(dataset, targets, 0.25, batch_size=3, train_ratio=1.0, epochs=1000)\n",
    "nn.predict(np.array([[1,1], [1,0], [0,1], [0,0]]))"
   ]
  },
  {
   "cell_type": "code",
   "execution_count": 40,
   "metadata": {},
   "outputs": [
    {
     "name": "stdout",
     "output_type": "stream",
     "text": [
      "tr - loss  [-0.01990907]  accuracy  1.0\n",
      "vl - loss  0  accuracy  -inf\n",
      "elapsed: \n",
      " 1.0177865028381348  ms\n"
     ]
    },
    {
     "data": {
      "text/plain": [
       "array([[0.98567611],\n",
       "       [0.01680311],\n",
       "       [0.01677282]])"
      ]
     },
     "execution_count": 40,
     "metadata": {},
     "output_type": "execute_result"
    },
    {
     "data": {
      "image/png": "[encoded data removed]",
      "text/plain": [
       "<Figure size 1728x720 with 2 Axes>"
      ]
     },
     "metadata": {
      "needs_background": "light"
     },
     "output_type": "display_data"
    }
   ],
   "source": [
    "#AND PROBLEM WITH 3 VAR\n",
    "dataset = np.array([[1,1,0],[1,1,1],[0,0,1]])\n",
    "targets = np.array([[0,1,0]])\n",
    "\n",
    "#the neural network\n",
    "nn = NeuralNetwork()\n",
    "nn.add_layer('dense', 1, 'sigmoid', dataset.shape[1]) #input layer\n",
    "nn.add_layer('dense', 4, 'sigmoid')\n",
    "nn.add_layer('dense', 4, 'sigmoid')\n",
    "nn.add_layer('dense', 1, 'sigmoid')\n",
    "\n",
    "#fit and predict\n",
    "nn.fit(dataset, targets, 0.25, epochs= 5000)\n",
    "nn.predict(np.array([[1,1,1], [0,1,0], [0,0,0]]))"
   ]
  },
  {
   "cell_type": "code",
   "execution_count": 91,
   "metadata": {},
   "outputs": [
    {
     "name": "stdout",
     "output_type": "stream",
     "text": [
      "tr - loss  [-0.01949573]  accuracy  1.0\n",
      "elapsed: \n",
      " 0.11853837966918945  ms\n"
     ]
    },
    {
     "data": {
      "image/png": "[encoded data removed]",
      "text/plain": [
       "<Figure size 432x288 with 2 Axes>"
      ]
     },
     "metadata": {
      "needs_background": "light"
     },
     "output_type": "display_data"
    }
   ],
   "source": [
    "#??\n",
    "dataset = np.array([[0,1,0],[0,0,1],[1,0,0],[1,1,0],[1,1,1]])\n",
    "targets = np.array([[1,0,0,1,1]])\n",
    "\n",
    "#the neural network\n",
    "nn = NeuralNetwork()\n",
    "nn.add_layer('dense', 1, 'sigmoid', dataset.shape[1]) #input layer\n",
    "nn.add_layer('dense', 2, 'sigmoid')\n",
    "nn.add_layer('dense', 1, 'sigmoid')\n",
    "\n",
    "nn.fit(dataset, targets, 0.25, 1, 400)"
   ]
  },
  {
   "cell_type": "code",
   "execution_count": 214,
   "metadata": {},
   "outputs": [],
   "source": [
    "#MONK1 PROBLEM\n",
    "\n",
    "train_set = np.genfromtxt(\"/home/remo/anaconda3/notebooks/ML/monks1-train.txt\", delimiter=\" \", dtype=\"int\")[:,1:-1] #rimuove la colonna nan alla fine\n",
    "train_targets = np.genfromtxt(\"/home/remo/anaconda3/notebooks/ML/monks1-train.txt\", delimiter=\" \", dtype=\"int\")[:,0:1].T\n",
    "\n",
    "test_set = np.genfromtxt(\"/home/remo/anaconda3/notebooks/ML/monks1-test.txt\", delimiter=\" \", dtype=\"int\") [:,1:-1] #rimuove targets e colonna nan \n",
    "test_targets = np.genfromtxt(\"/home/remo/anaconda3/notebooks/ML/monks1-test.txt\", delimiter=\" \", dtype=\"int\") [:,0:1].T"
   ]
  },
  {
   "cell_type": "code",
   "execution_count": 243,
   "metadata": {},
   "outputs": [
    {
     "name": "stdout",
     "output_type": "stream",
     "text": [
      "tr - loss  [-1.0798676]  accuracy  0.797979797979798\n",
      "vl - loss  [-3.97470085]  accuracy  0.84\n",
      "elapsed: \n",
      " 0.25891780853271484  ms\n"
     ]
    },
    {
     "data": {
      "image/png": "[encoded data removed]",
      "text/plain": [
       "<Figure size 432x288 with 2 Axes>"
      ]
     },
     "metadata": {
      "needs_background": "light"
     },
     "output_type": "display_data"
    }
   ],
   "source": [
    "nn = NeuralNetwork()\n",
    "nn.add_layer('dense', 10, 'sigmoid', train_set.shape[1]) #input layer\n",
    "nn.add_layer('dense', 10, 'sigmoid')\n",
    "nn.add_layer('dense', 1, 'sigmoid')\n",
    "\n",
    "nn.fit(train_set, train_targets, 0.01, 0.8, 500, 1000) #0.1 0.01 1 10"
   ]
  },
  {
   "cell_type": "code",
   "execution_count": 246,
   "metadata": {},
   "outputs": [
    {
     "name": "stdout",
     "output_type": "stream",
     "text": [
      "432 107 0.7523148148148148\n",
      "0.7523148148148148\n"
     ]
    }
   ],
   "source": [
    "#l,a = nn.evaluate(test_set, test_targets)\n",
    "#print(a)\n",
    "res = nn.predict(test_set).T\n",
    "#rounded = np.around(res)\n",
    "p = np.around(test_targets - res)\n",
    "accuracy = (p.size - np.count_nonzero(p))/p.size\n",
    "print(p.size, np.count_nonzero(p), accuracy)\n",
    "print(accuracy)"
   ]
  },
  {
   "cell_type": "code",
   "execution_count": 211,
   "metadata": {},
   "outputs": [
    {
     "name": "stdout",
     "output_type": "stream",
     "text": [
      "break at epoch  26\n",
      "elapsed: \n",
      " 0.12863659858703613  ms\n"
     ]
    },
    {
     "data": {
      "text/plain": [
       "(array([-1.02698608]), 0.8)"
      ]
     },
     "execution_count": 211,
     "metadata": {},
     "output_type": "execute_result"
    },
    {
     "data": {
      "image/png": "[encoded data removed]",
      "text/plain": [
       "<Figure size 432x288 with 2 Axes>"
      ]
     },
     "metadata": {
      "needs_background": "light"
     },
     "output_type": "display_data"
    }
   ],
   "source": [
    "dataset, targets = make_moons(n_samples=1000)\n",
    "targets=targets.reshape(1, targets.size)\n",
    "\n",
    "nn = NeuralNetwork()\n",
    "nn.add_layer('dense', 5, 'sigmoid', dataset.shape[1]) #input layer\n",
    "nn.add_layer('dense', 20, 'sigmoid')\n",
    "nn.add_layer('dense', 10, 'sigmoid')\n",
    "nn.add_layer('dense', 1, 'sigmoid')\n",
    "#lr = 0.1 or o.2 with 1000 sample = disaster\n",
    "#with 0,01 is okay\n",
    "nn.fit(dataset, targets, 0.01, 0.75, 30, 20) #0.1 0.01 1 10\n",
    "\n",
    "test_set, test_targets = make_moons(n_samples=20)\n",
    "test_targets=test_targets.reshape(1, test_targets.size)\n",
    "\n",
    "nn.evaluate(test_set, test_targets.T)"
   ]
  },
  {
   "cell_type": "code",
   "execution_count": null,
   "metadata": {},
   "outputs": [],
   "source": []
  }
 ],
 "metadata": {
  "kernelspec": {
   "display_name": "Python 3",
   "language": "python",
   "name": "python3"
  },
  "language_info": {
   "codemirror_mode": {
    "name": "ipython",
    "version": 3
   },
   "file_extension": ".py",
   "mimetype": "text/x-python",
   "name": "python",
   "nbconvert_exporter": "python",
   "pygments_lexer": "ipython3",
   "version": "3.7.0"
  }
 },
 "nbformat": 4,
 "nbformat_minor": 2
}

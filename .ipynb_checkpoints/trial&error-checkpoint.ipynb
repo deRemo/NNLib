{
 "cells": [
  {
   "cell_type": "code",
   "execution_count": 2,
   "metadata": {},
   "outputs": [],
   "source": [
    "import numpy as np"
   ]
  },
  {
   "cell_type": "code",
   "execution_count": null,
   "metadata": {},
   "outputs": [],
   "source": [
    "#Transpose non modifica in place\n",
    "ar=np.array([[0,1,1],[1,1,1]])\n",
    "print(ar)\n",
    "print(ar.T)\n",
    "print(ar)"
   ]
  },
  {
   "cell_type": "code",
   "execution_count": null,
   "metadata": {},
   "outputs": [],
   "source": [
    "#se il dataset e' una matrice, devo trasporla\n",
    "w=np.array([[1],[2],[3]])\n",
    "print(\"w: \\n\",w)\n",
    "x = (np.array([[0,1,1], [1,0,0]])).T\n",
    "targets = np.array([[1,0]])\n",
    "print(\"x: \\n\", x)\n",
    "wx = np.dot(w.T,x) + 0.4\n",
    "print(\"wx: \\n\", wx)\n",
    "#z = sigmoid(xw)\n",
    "#d_z = d_sigmoid(xw)\n",
    "#print(z)\n",
    "\n",
    "#err=targets.T - z\n",
    "#print(err)\n",
    "\n",
    "#err*d_z"
   ]
  },
  {
   "cell_type": "code",
   "execution_count": null,
   "metadata": {},
   "outputs": [],
   "source": [
    "w=np.array([[1],[2],[3]])\n",
    "print(x)\n",
    "\n",
    "dw=np.array([[1,1],[2,2],[3,3]])\n",
    "print(dw)\n",
    "\n",
    "print(w.T+dw[:,0])"
   ]
  },
  {
   "cell_type": "code",
   "execution_count": null,
   "metadata": {},
   "outputs": [],
   "source": [
    "#modify dataset\n",
    "def add_bias_slow(dataset):\n",
    "    rows = np.size(dataset,0)\n",
    "    columns = np.size(dataset,1)\n",
    "    \n",
    "    dataset_with_bias = np.ones((rows,columns+1))\n",
    "    dataset_with_bias[:,:-1] = dataset\n",
    "    return dataset_with_bias\n",
    "\n",
    "data = np.array([[1,1],[2,2],[3,3]])\n",
    "rows = np.size(data,0)\n",
    "columns = np.size(data,1)\n",
    "    \n",
    "dataset_with_bias = np.ones((rows,1))\n",
    "d=np.append(data, dataset_with_bias, axis=1)\n",
    "print(d)"
   ]
  },
  {
   "cell_type": "code",
   "execution_count": null,
   "metadata": {},
   "outputs": [],
   "source": [
    "#prod of all element in a column\n",
    "s_e = np.array([[3, 3],[2, 3]])\n",
    "print(\"s_e: \\n\", s_e)\n",
    "print(np.prod(s_e, axis=0))"
   ]
  },
  {
   "cell_type": "code",
   "execution_count": null,
   "metadata": {},
   "outputs": [],
   "source": [
    "#sum of all element in a column\n",
    "s_e = np.array([[3, 3],[2, 3]])\n",
    "print(\"s_e: \\n\", s_e)\n",
    "print(np.sum(s_e, axis=0))"
   ]
  },
  {
   "cell_type": "code",
   "execution_count": null,
   "metadata": {},
   "outputs": [],
   "source": [
    "x = np.array([[3],[2],[1]])\n",
    "print(x)\n",
    "print(x[-1])\n",
    "print(x.shape[1])"
   ]
  },
  {
   "cell_type": "code",
   "execution_count": null,
   "metadata": {},
   "outputs": [],
   "source": [
    "#backprop mult\n",
    "fnet = np.array([[1,1],[1,2],[1,3]])\n",
    "bp = np.array([[3],[2]])\n",
    "print(fnet)\n",
    "print(bp.T)\n",
    "print(np.multiply(fnet, bp.T))"
   ]
  },
  {
   "cell_type": "code",
   "execution_count": null,
   "metadata": {},
   "outputs": [],
   "source": [
    "#backprop transform\n",
    "bp0 = np.array([[3,2]])\n",
    "print(bp0)\n",
    "bp1 = np.array([[1,2],[1,3]])\n",
    "print(bp1)\n",
    "bp2 = np.add(bp0, bp1)\n",
    "print(bp2)"
   ]
  },
  {
   "cell_type": "code",
   "execution_count": null,
   "metadata": {},
   "outputs": [],
   "source": [
    "fnet = np.array([[1,1],[1,2],[1,3]])\n",
    "print(fnet)\n",
    "b = np.array([[1,1]])\n",
    "print(b)\n",
    "print(fnet+b)"
   ]
  },
  {
   "cell_type": "code",
   "execution_count": null,
   "metadata": {},
   "outputs": [],
   "source": [
    "#iterate on array\n",
    "a = np.array([[1,1],[1,2],[1,3]])\n",
    "print(a)\n",
    "b = np.array([0])\n",
    "print(b)\n",
    "b = np.copy(a)\n",
    "print(b)"
   ]
  },
  {
   "cell_type": "code",
   "execution_count": null,
   "metadata": {},
   "outputs": [],
   "source": [
    "a = np.array([[1,1],[1,2],[1,3]])\n",
    "print(a)\n",
    "b = np.array([[0]])\n",
    "print(b)\n",
    "print(b.dot(b,a))"
   ]
  },
  {
   "cell_type": "code",
   "execution_count": 3,
   "metadata": {},
   "outputs": [
    {
     "name": "stdout",
     "output_type": "stream",
     "text": [
      "[[1]\n",
      " [1]\n",
      " [3]\n",
      " [2]\n",
      " [3]\n",
      " [5]] 6 4\n"
     ]
    },
    {
     "data": {
      "text/plain": [
       "[array([[1],\n",
       "        [1],\n",
       "        [3],\n",
       "        [2]]), array([[3],\n",
       "        [5]])]"
      ]
     },
     "execution_count": 3,
     "metadata": {},
     "output_type": "execute_result"
    }
   ],
   "source": [
    "#split array by ratio\n",
    "a = np.array([[1],[1],[3], [2], [3], [5]])\n",
    "sz = a.shape[0]\n",
    "tr_percentage = 0.60\n",
    "\n",
    "tr_size = np.int(np.around(sz * tr_percentage))\n",
    "print(a, sz, tr_size)\n",
    "np.array_split(a, [tr_size])"
   ]
  },
  {
   "cell_type": "code",
   "execution_count": 23,
   "metadata": {},
   "outputs": [],
   "source": [
    "def dataset_batch_split(dataset, batch_size):\n",
    "    rows = dataset.shape[0]\n",
    "    return np.array_split(a, rows/batch_size)"
   ]
  },
  {
   "cell_type": "code",
   "execution_count": 24,
   "metadata": {},
   "outputs": [
    {
     "data": {
      "text/plain": [
       "[array([[1, 2],\n",
       "        [1, 4],\n",
       "        [3, 3]]), array([[2, 2],\n",
       "        [3, 2]]), array([[5, 1],\n",
       "        [3, 3]])]"
      ]
     },
     "execution_count": 24,
     "metadata": {},
     "output_type": "execute_result"
    }
   ],
   "source": [
    "a = np.array([[1,2],[1,4],[3,3], [2,2], [3,2], [5,1], [3,3]])\n",
    "\n",
    "res = dataset_batch_split(a, 2)"
   ]
  },
  {
   "cell_type": "code",
   "execution_count": null,
   "metadata": {},
   "outputs": [],
   "source": []
  }
 ],
 "metadata": {
  "kernelspec": {
   "display_name": "Python 3",
   "language": "python",
   "name": "python3"
  },
  "language_info": {
   "codemirror_mode": {
    "name": "ipython",
    "version": 3
   },
   "file_extension": ".py",
   "mimetype": "text/x-python",
   "name": "python",
   "nbconvert_exporter": "python",
   "pygments_lexer": "ipython3",
   "version": "3.7.0"
  }
 },
 "nbformat": 4,
 "nbformat_minor": 2
}

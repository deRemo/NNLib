{
 "cells": [
  {
   "cell_type": "code",
   "execution_count": 1,
   "metadata": {},
   "outputs": [],
   "source": [
    "from neural_network import NeuralNetwork\n",
    "from sgd import SGD\n",
    "from quickprop import Quickprop\n",
    "from rprop import Rprop\n",
    "from lr_schedulers import ExponentialDecayScheduler, TimeBasedScheduler, StepDecayScheduler\n",
    "import numpy as np\n",
    "from sklearn.metrics import accuracy_score\n",
    "from sklearn.model_selection import ParameterGrid"
   ]
  },
  {
   "cell_type": "code",
   "execution_count": 2,
   "metadata": {},
   "outputs": [],
   "source": [
    "#MONK PROBLEMS\n",
    "def load_monks_problems():\n",
    "    monks_trains={}\n",
    "    monks_tr_targets={}\n",
    "\n",
    "    monks_tests={}\n",
    "    monks_ts_targets={}\n",
    "\n",
    "    for i in [\"1\",\"2\",\"3\"]:\n",
    "        path=\"../monks/monks\"+i;\n",
    "        train_set = np.genfromtxt(path+\"-train.txt\", delimiter=\" \", dtype=\"int\")[:,1:-1] #rimuove la colonna nan alla fine\n",
    "        train_targets = np.genfromtxt(path+\"-train.txt\", delimiter=\" \", dtype=\"int\")[:,:1]\n",
    "        monks_trains[\"monks\"+i]=train_set\n",
    "        monks_tr_targets[\"monks\"+i]=train_targets\n",
    "\n",
    "        test_set = np.genfromtxt(path+\"-test.txt\", delimiter=\" \", dtype=\"int\") [:,1:-1] #rimuove targets e colonna nan \n",
    "        test_targets = np.genfromtxt(path+\"-test.txt\", delimiter=\" \", dtype=\"int\") [:,0:1]\n",
    "        monks_tests[\"monks\"+i]=test_set\n",
    "        monks_ts_targets[\"monks\"+i]=test_targets\n",
    "        \n",
    "    return monks_trains, monks_tr_targets, monks_tests, monks_ts_targets"
   ]
  },
  {
   "cell_type": "code",
   "execution_count": 7,
   "metadata": {},
   "outputs": [],
   "source": [
    "# --- Parameters grid search ---\n",
    "def params_grid_search(nn, dataset, target, params):\n",
    "    best_accuracy=0\n",
    "    grid = ParameterGrid(param_grid)\n",
    "\n",
    "    for params in grid:\n",
    "        nn.compile(optimizer=SGD(lr_init=params['lr'], momentum=params['momentum'], nesterov=False, lr_sched=StepDecayScheduler(epochs_drop=15)))\n",
    "        model=nn.fit(dataset, target, batch_size=params['batch_size'], test_size=params['test_size'], epochs=params['epoch'], patience=params['patience'], save_stats=True) #lr=0.05 test_size=0.5 epochs=2000\n",
    "\n",
    "        accuracy=np.amax(np.load(\"vl_accuracy.npy\"))\n",
    "        if(accuracy > best_accuracy):\n",
    "            best_accuracy=accuracy\n",
    "            best_param={x:params[x] for x in list(param_grid.keys())}\n",
    "            \n",
    "    return best_accuracy, best_param\n",
    "\n",
    "# --- Layer/Unit pseudo grid search ---\n",
    "def grid_search(dataset, target, params, debug=False):\n",
    "    grid_results=[];\n",
    "    max_hidden_layers=5\n",
    "    num_of_units=[5,10,15]\n",
    "\n",
    "    for i_hidden_layers in range(1,max_hidden_layers, 1):\n",
    "        for j_units in [5,10,15]:\n",
    "            nn = NeuralNetwork()\n",
    "\n",
    "            nn.add_layer('dense', j_units, 'sigmoid', dataset.shape[1])\n",
    "            for h in range(2,i_hidden_layers+1,1):\n",
    "                nn.add_layer('dense', j_units, 'sigmoid')\n",
    "            nn.add_layer('dense', 1, 'sigmoid')\n",
    "            \n",
    "            grid_results.append(params_grid_search(nn, dataset, target, params))\n",
    "            if(debug==True):\n",
    "                l=[]\n",
    "                for layer in nn.layers:\n",
    "                    l.append(layer.num_units)\n",
    "                print(\">layers: (\", len(nn.layers),\")\", l)\n",
    "                print(grid_results[-1])\n",
    "    return grid_results"
   ]
  },
  {
   "cell_type": "code",
   "execution_count": null,
   "metadata": {},
   "outputs": [],
   "source": []
  },
  {
   "cell_type": "code",
   "execution_count": null,
   "metadata": {},
   "outputs": [],
   "source": []
  },
  {
   "cell_type": "code",
   "execution_count": 13,
   "metadata": {},
   "outputs": [],
   "source": [
    "# --- parameters ---\n",
    "param_grid = {\n",
    "    'lr': [0.05, 0.1, 0.15, 0.2], \n",
    "    'epoch' : [1000, 2000, 3000],\n",
    "    'patience': [100, 200, 300],\n",
    "    'test_size': [0.25, 0.5],\n",
    "    'batch_size': [16],\n",
    "    'momentum': [0.7, 0.8, 0,9]\n",
    "}"
   ]
  },
  {
   "cell_type": "code",
   "execution_count": 14,
   "metadata": {},
   "outputs": [],
   "source": [
    "monks_trains, monks_tr_targets, monks_tests, monks_ts_targets = load_monks_problems()"
   ]
  },
  {
   "cell_type": "code",
   "execution_count": 17,
   "metadata": {},
   "outputs": [
    {
     "name": "stdout",
     "output_type": "stream",
     "text": [
      "monks1\n",
      ">layers: ( 2 ) [5, 1]\n",
      "(0.8709677419354839, {'lr': 0.2, 'epoch': 3000, 'patience': 200, 'test_size': 0.25, 'batch_size': 16, 'momentum': 0.7})\n",
      ">layers: ( 2 ) [10, 1]\n",
      "(1.0, {'lr': 0.2, 'epoch': 4000, 'patience': 200, 'test_size': 0.25, 'batch_size': 16, 'momentum': 0.7})\n",
      ">layers: ( 2 ) [15, 1]\n",
      "(0.967741935483871, {'lr': 0.2, 'epoch': 2000, 'patience': 200, 'test_size': 0.25, 'batch_size': 16, 'momentum': 0.8})\n",
      ">layers: ( 3 ) [5, 5, 1]\n",
      "(1.0, {'lr': 0.2, 'epoch': 3000, 'patience': 200, 'test_size': 0.25, 'batch_size': 16, 'momentum': 0.7})\n",
      ">layers: ( 3 ) [10, 10, 1]\n",
      "(0.9516129032258065, {'lr': 0.2, 'epoch': 2000, 'patience': 200, 'test_size': 0.5, 'batch_size': 16, 'momentum': 0.7})\n",
      ">layers: ( 3 ) [15, 15, 1]\n",
      "(1.0, {'lr': 0.15, 'epoch': 2000, 'patience': 200, 'test_size': 0.25, 'batch_size': 16, 'momentum': 0.7})\n",
      ">layers: ( 4 ) [5, 5, 5, 1]\n",
      "(0.9354838709677419, {'lr': 0.15, 'epoch': 2000, 'patience': 200, 'test_size': 0.25, 'batch_size': 16, 'momentum': 0.7})\n",
      ">layers: ( 4 ) [10, 10, 10, 1]\n",
      "(1.0, {'lr': 0.2, 'epoch': 2000, 'patience': 200, 'test_size': 0.25, 'batch_size': 16, 'momentum': 0.8})\n",
      ">layers: ( 4 ) [15, 15, 15, 1]\n",
      "(1.0, {'lr': 0.2, 'epoch': 2000, 'patience': 200, 'test_size': 0.25, 'batch_size': 16, 'momentum': 0.7})\n",
      ">layers: ( 5 ) [5, 5, 5, 5, 1]\n",
      "(0.8064516129032258, {'lr': 0.15, 'epoch': 2000, 'patience': 200, 'test_size': 0.25, 'batch_size': 16, 'momentum': 0.8})\n",
      ">layers: ( 5 ) [10, 10, 10, 10, 1]\n",
      "(0.9354838709677419, {'lr': 0.15, 'epoch': 3000, 'patience': 200, 'test_size': 0.25, 'batch_size': 16, 'momentum': 0.8})\n",
      ">layers: ( 5 ) [15, 15, 15, 15, 1]\n",
      "(0.967741935483871, {'lr': 0.2, 'epoch': 3000, 'patience': 200, 'test_size': 0.25, 'batch_size': 16, 'momentum': 0.7})\n",
      "[(0.8709677419354839, {'lr': 0.2, 'epoch': 3000, 'patience': 200, 'test_size': 0.25, 'batch_size': 16, 'momentum': 0.7}), (1.0, {'lr': 0.2, 'epoch': 4000, 'patience': 200, 'test_size': 0.25, 'batch_size': 16, 'momentum': 0.7}), (0.967741935483871, {'lr': 0.2, 'epoch': 2000, 'patience': 200, 'test_size': 0.25, 'batch_size': 16, 'momentum': 0.8}), (1.0, {'lr': 0.2, 'epoch': 3000, 'patience': 200, 'test_size': 0.25, 'batch_size': 16, 'momentum': 0.7}), (0.9516129032258065, {'lr': 0.2, 'epoch': 2000, 'patience': 200, 'test_size': 0.5, 'batch_size': 16, 'momentum': 0.7}), (1.0, {'lr': 0.15, 'epoch': 2000, 'patience': 200, 'test_size': 0.25, 'batch_size': 16, 'momentum': 0.7}), (0.9354838709677419, {'lr': 0.15, 'epoch': 2000, 'patience': 200, 'test_size': 0.25, 'batch_size': 16, 'momentum': 0.7}), (1.0, {'lr': 0.2, 'epoch': 2000, 'patience': 200, 'test_size': 0.25, 'batch_size': 16, 'momentum': 0.8}), (1.0, {'lr': 0.2, 'epoch': 2000, 'patience': 200, 'test_size': 0.25, 'batch_size': 16, 'momentum': 0.7}), (0.8064516129032258, {'lr': 0.15, 'epoch': 2000, 'patience': 200, 'test_size': 0.25, 'batch_size': 16, 'momentum': 0.8}), (0.9354838709677419, {'lr': 0.15, 'epoch': 3000, 'patience': 200, 'test_size': 0.25, 'batch_size': 16, 'momentum': 0.8}), (0.967741935483871, {'lr': 0.2, 'epoch': 3000, 'patience': 200, 'test_size': 0.25, 'batch_size': 16, 'momentum': 0.7})]\n"
     ]
    }
   ],
   "source": [
    "#TEST WITH SMALL PARAM_GRID\n",
    "#test\n",
    "param_grid = {\n",
    "    'lr': [0.15, 0.2], \n",
    "    'epoch' : [2000, 3000, 4000],\n",
    "    'patience': [200],\n",
    "    'test_size': [0.25, 0.5],\n",
    "    'batch_size': [16],\n",
    "    'momentum': [0.7, 0.8]\n",
    "}\n",
    "\n",
    "results={}\n",
    "\n",
    "for i in [\"1\"]:\n",
    "    print(\"monks\"+i)\n",
    "    x=monks_trains[\"monks\"+i]\n",
    "    y=monks_tr_targets[\"monks\"+i]\n",
    "    results[\"monks1\"]=grid_search(x, y, param_grid, True)"
   ]
  },
  {
   "cell_type": "code",
   "execution_count": null,
   "metadata": {},
   "outputs": [],
   "source": []
  }
 ],
 "metadata": {
  "kernelspec": {
   "display_name": "Python 3",
   "language": "python",
   "name": "python3"
  },
  "language_info": {
   "codemirror_mode": {
    "name": "ipython",
    "version": 3
   },
   "file_extension": ".py",
   "mimetype": "text/x-python",
   "name": "python",
   "nbconvert_exporter": "python",
   "pygments_lexer": "ipython3",
   "version": "3.7.2"
  }
 },
 "nbformat": 4,
 "nbformat_minor": 2
}

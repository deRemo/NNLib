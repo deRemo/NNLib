{
 "cells": [
  {
   "cell_type": "code",
   "execution_count": 1,
   "metadata": {},
   "outputs": [],
   "source": [
    "from neural_network import NeuralNetwork\n",
    "from sgd import SGD\n",
    "from quickprop import Quickprop\n",
    "from rprop import Rprop\n",
    "from lr_schedulers import ExponentialDecayScheduler, TimeBasedScheduler, StepDecayScheduler\n",
    "import numpy as np\n",
    "from sklearn.metrics import accuracy_score"
   ]
  },
  {
   "cell_type": "code",
   "execution_count": 227,
   "metadata": {},
   "outputs": [],
   "source": [
    "#MONK1 PROBLEM\n",
    "\n",
    "train_set = np.genfromtxt(\"../monks/monks1-train.txt\", delimiter=\" \", dtype=\"int\")[:,1:-1] #rimuove la colonna nan alla fine\n",
    "train_targets = np.genfromtxt(\"../monks/monks1-train.txt\", delimiter=\" \", dtype=\"int\")[:,:1]\n",
    "\n",
    "test_set = np.genfromtxt(\"../monks/monks1-test.txt\", delimiter=\" \", dtype=\"int\") [:,1:-1] #rimuove targets e colonna nan \n",
    "test_targets = np.genfromtxt(\"../monks/monks1-test.txt\", delimiter=\" \", dtype=\"int\") [:,0:1]"
   ]
  },
  {
   "cell_type": "code",
   "execution_count": 230,
   "metadata": {
    "scrolled": true
   },
   "outputs": [
    {
     "name": "stdout",
     "output_type": "stream",
     "text": [
      "Accuracy improved at epoch  1 :  0.5\n",
      "Accuracy improved at epoch  3 :  0.6388888888888888\n",
      "Accuracy improved at epoch  4 :  0.6666666666666666\n",
      "Accuracy improved at epoch  10 :  0.9166666666666666\n",
      "Accuracy improved at epoch  14 :  0.9444444444444444\n",
      "Accuracy improved at epoch  15 :  0.9722222222222222\n"
     ]
    },
    {
     "data": {
      "text/plain": [
       "<neural_network.NeuralNetwork at 0x1c1e6606320>"
      ]
     },
     "execution_count": 230,
     "metadata": {},
     "output_type": "execute_result"
    }
   ],
   "source": [
    "nn = NeuralNetwork()\n",
    "nn.add_layer('dense', 15, 'sigmoid', train_set.shape[1]) #input layer\n",
    "nn.add_layer('dense', 10, 'sigmoid')\n",
    "nn.add_layer('dense', 1, 'sigmoid')\n",
    "nn.compile(optimizer=SGD(lr_init=0.1, momentum=0.9, nesterov=True, lr_sched=StepDecayScheduler(drop=0.4, epochs_drop=50)))\n",
    "\n",
    "nn.fit(train_set, train_targets, batch_size=8, test_size=0.3, epochs=5000, patience=200, save_stats=None, save_model='best_nn_monk1_tmp', verbose=True) #lr=0.05 test_size=0.5 epochs=2000"
   ]
  },
  {
   "cell_type": "code",
   "execution_count": 231,
   "metadata": {},
   "outputs": [
    {
     "data": {
      "text/plain": [
       "0.9537037037037037"
      ]
     },
     "execution_count": 231,
     "metadata": {},
     "output_type": "execute_result"
    }
   ],
   "source": [
    "prediction = nn.predict(test_set)\n",
    "accuracy_score(test_targets, prediction)"
   ]
  },
  {
   "cell_type": "code",
   "execution_count": 234,
   "metadata": {},
   "outputs": [],
   "source": [
    "#MONK2 PROBLEM\n",
    "\n",
    "train_set = np.genfromtxt(\"../monks/monks2-train.txt\", delimiter=\" \", dtype=\"int\")[:,1:-1] #rimuove la colonna nan alla fine\n",
    "train_targets = np.genfromtxt(\"../monks/monks2-train.txt\", delimiter=\" \", dtype=\"int\")[:,:1]\n",
    "\n",
    "test_set = np.genfromtxt(\"../monks/monks2-test.txt\", delimiter=\" \", dtype=\"int\") [:,1:-1] #rimuove targets e colonna nan \n",
    "test_targets = np.genfromtxt(\"../monks/monks2-test.txt\", delimiter=\" \", dtype=\"int\") [:,0:1]"
   ]
  },
  {
   "cell_type": "code",
   "execution_count": 247,
   "metadata": {
    "scrolled": true
   },
   "outputs": [
    {
     "name": "stdout",
     "output_type": "stream",
     "text": [
      "Accuracy improved at epoch  1 :  0.6190476190476191\n",
      "Accuracy improved at epoch  3 :  0.6309523809523809\n",
      "Accuracy improved at epoch  35 :  0.6428571428571429\n"
     ]
    },
    {
     "data": {
      "text/plain": [
       "<neural_network.NeuralNetwork at 0x1c1e6629550>"
      ]
     },
     "execution_count": 247,
     "metadata": {},
     "output_type": "execute_result"
    }
   ],
   "source": [
    "nn = NeuralNetwork()\n",
    "nn.add_layer('dense', 10, 'sigmoid', train_set.shape[1]) #input layer\n",
    "nn.add_layer('dense', 10, 'sigmoid') #input layer\n",
    "nn.add_layer('dense', 1, 'sigmoid')\n",
    "nn.compile(optimizer=SGD(lr_init=0.1, momentum=0.8, nesterov=False, lr_sched=StepDecayScheduler(drop=0.9, epochs_drop=10)))\n",
    "\n",
    "nn.fit(train_set, train_targets, batch_size=16, test_size=0.5, epochs=5000, patience=200, save_model='best_nn_monk2_tmp', verbose=True)"
   ]
  },
  {
   "cell_type": "code",
   "execution_count": 43,
   "metadata": {},
   "outputs": [
    {
     "data": {
      "text/plain": [
       "0.7291666666666666"
      ]
     },
     "execution_count": 43,
     "metadata": {},
     "output_type": "execute_result"
    }
   ],
   "source": [
    "prediction = nn.predict(test_set)\n",
    "accuracy_score(test_targets, prediction)"
   ]
  },
  {
   "cell_type": "code",
   "execution_count": 143,
   "metadata": {},
   "outputs": [],
   "source": [
    "#MONK3 PROBLEM\n",
    "\n",
    "train_set = np.genfromtxt(\"../monks/monks3-train.txt\", delimiter=\" \", dtype=\"int\")[:,1:-1] #rimuove la colonna nan alla fine\n",
    "train_targets = np.genfromtxt(\"../monks/monks3-train.txt\", delimiter=\" \", dtype=\"int\")[:,:1]\n",
    "\n",
    "test_set = np.genfromtxt(\"../monks/monks3-test.txt\", delimiter=\" \", dtype=\"int\") [:,1:-1] #rimuove targets e colonna nan \n",
    "test_targets = np.genfromtxt(\"../monks/monks3-test.txt\", delimiter=\" \", dtype=\"int\") [:,0:1]"
   ]
  },
  {
   "cell_type": "code",
   "execution_count": 225,
   "metadata": {},
   "outputs": [
    {
     "name": "stdout",
     "output_type": "stream",
     "text": [
      "Accuracy improved at epoch  1 :  0.5081967213114754\n",
      "Accuracy improved at epoch  2 :  0.7213114754098361\n",
      "Accuracy improved at epoch  3 :  0.8032786885245902\n",
      "Accuracy improved at epoch  6 :  0.8852459016393442\n",
      "Accuracy improved at epoch  14 :  0.9016393442622951\n",
      "Accuracy improved at epoch  15 :  0.9344262295081968\n",
      "Accuracy improved at epoch  30 :  0.9508196721311475\n"
     ]
    },
    {
     "data": {
      "text/plain": [
       "<neural_network.NeuralNetwork at 0x1c1e6604860>"
      ]
     },
     "execution_count": 225,
     "metadata": {},
     "output_type": "execute_result"
    }
   ],
   "source": [
    "nn = NeuralNetwork()\n",
    "nn.add_layer('dense', 40, 'sigmoid', train_set.shape[1]) #input layer\n",
    "nn.add_layer('dense', 30, 'sigmoid') #input layer\n",
    "nn.add_layer('dense', 1, 'sigmoid')\n",
    "nn.compile(optimizer=SGD(lr_init=0.25, momentum=0.8, nesterov=False, lr_sched=StepDecayScheduler(drop=0.1, epochs_drop=15)))\n",
    "\n",
    "nn.fit(train_set, train_targets, batch_size=16, test_size=0.5, epochs=5000, patience=200, save_model='best_nn_monk3_tmp', verbose=True)"
   ]
  },
  {
   "cell_type": "code",
   "execution_count": 226,
   "metadata": {},
   "outputs": [
    {
     "data": {
      "text/plain": [
       "0.8680555555555556"
      ]
     },
     "execution_count": 226,
     "metadata": {},
     "output_type": "execute_result"
    }
   ],
   "source": [
    "prediction = nn.predict(test_set)\n",
    "accuracy_score(test_targets, prediction)"
   ]
  },
  {
   "cell_type": "code",
   "execution_count": 269,
   "metadata": {},
   "outputs": [],
   "source": [
    "train_set = np.genfromtxt(\"../cup/ML-CUP18-TR.csv\", delimiter=\",\")[:, 1:-2]\n",
    "train_targets = np.genfromtxt(\"../cup/ML-CUP18-TR.csv\", delimiter=\",\")[:, -2:]\n",
    "\n",
    "def split_regression(dataset, targets):\n",
    "    index = np.argsort(targets[:, 0])\n",
    "    dataset, targets = dataset[index], targets[index]\n",
    "    indices = [([], []) for _ in range(3)]\n",
    "    for i in range(0, len(targets), 3):\n",
    "        for j in range(3):\n",
    "            if j+3-1 < len(targets):\n",
    "                for k in range(3):\n",
    "                    if k == j and j + i < len(targets):\n",
    "                        indices[j][1].append(i+k)\n",
    "                    elif k != j:\n",
    "                        indices[j][0].append(i+k)\n",
    "    return indices, dataset, targets\n"
   ]
  },
  {
   "cell_type": "code",
   "execution_count": 270,
   "metadata": {},
   "outputs": [],
   "source": [
    "indices, ds, ts = split_regression(train_set, train_targets)"
   ]
  },
  {
   "cell_type": "code",
   "execution_count": 275,
   "metadata": {},
   "outputs": [
    {
     "data": {
      "text/plain": [
       "array([[ 0.398392,  1.950329,  1.619484, ...,  0.639824,  0.033804,\n",
       "         0.771022],\n",
       "       [ 0.257544,  2.044587,  1.436135, ...,  0.34237 , -0.444547,\n",
       "         0.542163],\n",
       "       [ 0.53924 ,  0.819237,  2.352881, ...,  0.223388,  0.87092 ,\n",
       "        -0.258844],\n",
       "       ...,\n",
       "       [-0.235423, -1.914238, -0.214007, ..., -0.133557, -1.461045,\n",
       "         1.457598],\n",
       "       [-1.221357, -0.311856, -1.222428, ..., -1.085412,  1.050302,\n",
       "        -1.345924],\n",
       "       [-0.164999, -1.631465, -0.67238 , ...,  0.520842, -1.341457,\n",
       "         1.514813]])"
      ]
     },
     "execution_count": 275,
     "metadata": {},
     "output_type": "execute_result"
    }
   ],
   "source": [
    "ds"
   ]
  },
  {
   "cell_type": "code",
   "execution_count": 276,
   "metadata": {},
   "outputs": [
    {
     "data": {
      "text/plain": [
       "array([[-15.096911, -17.825393],\n",
       "       [-15.07358 , -17.776483],\n",
       "       [-15.029708, -17.465172],\n",
       "       ...,\n",
       "       [ -1.262883, -29.8712  ],\n",
       "       [ -1.231193,  -1.420463],\n",
       "       [ -1.164448, -29.923017]])"
      ]
     },
     "execution_count": 276,
     "metadata": {},
     "output_type": "execute_result"
    }
   ],
   "source": [
    "ts"
   ]
  },
  {
   "cell_type": "code",
   "execution_count": 279,
   "metadata": {},
   "outputs": [
    {
     "data": {
      "text/plain": [
       "array([[  0.398392,   1.950329,   1.619484,   0.656251,   0.932322,\n",
       "          0.259603,   0.030828,   0.639824,   0.033804,   0.771022,\n",
       "        -15.096911, -17.825393]])"
      ]
     },
     "execution_count": 279,
     "metadata": {},
     "output_type": "execute_result"
    }
   ],
   "source": [
    "np.concatenate([train_set, train_targets], axis=1)[train_targets[:, 0] == -15.096911]"
   ]
  },
  {
   "cell_type": "code",
   "execution_count": null,
   "metadata": {},
   "outputs": [],
   "source": []
  }
 ],
 "metadata": {
  "kernelspec": {
   "display_name": "Python 3",
   "language": "python",
   "name": "python3"
  },
  "language_info": {
   "codemirror_mode": {
    "name": "ipython",
    "version": 3
   },
   "file_extension": ".py",
   "mimetype": "text/x-python",
   "name": "python",
   "nbconvert_exporter": "python",
   "pygments_lexer": "ipython3",
   "version": "3.7.2"
  }
 },
 "nbformat": 4,
 "nbformat_minor": 2
}

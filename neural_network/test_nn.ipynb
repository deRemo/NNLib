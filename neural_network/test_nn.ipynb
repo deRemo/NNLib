{
 "cells": [
  {
   "cell_type": "code",
   "execution_count": 1,
   "metadata": {},
   "outputs": [],
   "source": [
    "from neural_network import NeuralNetwork\n",
    "from sgd import SGD\n",
    "from quickprop import Quickprop\n",
    "from rprop import Rprop\n",
    "from lr_schedulers import ExponentialDecayScheduler, TimeBasedScheduler, StepDecayScheduler\n",
    "import numpy as np\n",
    "from sklearn.metrics import accuracy_score\n",
    "#MONK1 PROBLEM\n",
    "\n",
    "train_set = np.genfromtxt(\"../cup/ML-CUP18-TR.csv\", delimiter=\",\")[:, 1:-2]\n",
    "train_targets = np.genfromtxt(\"../cup/ML-CUP18-TR.csv\", delimiter=\",\")[:, -2:]"
   ]
  },
  {
   "cell_type": "code",
   "execution_count": 7,
   "metadata": {
    "scrolled": true
   },
   "outputs": [
    {
     "name": "stdout",
     "output_type": "stream",
     "text": [
      "Accuracy improved at epoch  1 :  0.62\n",
      "Accuracy improved at epoch  4 :  0.7\n",
      "Accuracy improved at epoch  5 :  0.72\n"
     ]
    },
    {
     "data": {
      "text/plain": [
       "<neural_network.NeuralNetwork at 0x1f79e82fcf8>"
      ]
     },
     "execution_count": 7,
     "metadata": {},
     "output_type": "execute_result"
    }
   ],
   "source": [
    "nn = NeuralNetwork()\n",
    "nn.add_layer('dense', 40, 'sigmoid', train_set.shape[1]) #input layer\n",
    "nn.add_layer('dense', 40, 'sigmoid')\n",
    "nn.add_layer('dense', 1, 'linear')\n",
    "nn.compile(task='Classification', dropout=[0.5, 0.5, 0.5], optimizer=SGD(lr_init=0.0005, momentum=0.9, nesterov=False, lr_sched=StepDecayScheduler(drop=0.95, epochs_drop=100))) #StepDecayScheduler(drop=0.9, epochs_drop=100)\n",
    "\n",
    "nn.fit(train_set, train_targets, batch_size=64, test_size=0.3, epochs=5000, patience=200, save_stats='cup_stats', save_model='best_cup', verbose=True) #lr=0.05 test_size=0.5 epochs=2000"
   ]
  },
  {
   "cell_type": "code",
   "execution_count": 102,
   "metadata": {},
   "outputs": [],
   "source": [
    "# 0.94817595 LMS\n",
    "with open('best_nn_cup.pkl', 'wb') as output:\n",
    "    pickle.dump(nn, output, pickle.HIGHEST_PROTOCOL)"
   ]
  },
  {
   "cell_type": "code",
   "execution_count": 8,
   "metadata": {},
   "outputs": [
    {
     "data": {
      "text/plain": [
       "array([[0.],\n",
       "       [0.],\n",
       "       [0.],\n",
       "       [0.],\n",
       "       [0.],\n",
       "       [0.],\n",
       "       [0.],\n",
       "       [0.],\n",
       "       [0.],\n",
       "       [0.],\n",
       "       [0.],\n",
       "       [0.],\n",
       "       [0.],\n",
       "       [0.],\n",
       "       [0.],\n",
       "       [0.],\n",
       "       [0.],\n",
       "       [0.],\n",
       "       [0.],\n",
       "       [0.]])"
      ]
     },
     "execution_count": 8,
     "metadata": {},
     "output_type": "execute_result"
    }
   ],
   "source": [
    "nn.predict(train_set[:20])"
   ]
  },
  {
   "cell_type": "code",
   "execution_count": 6,
   "metadata": {},
   "outputs": [],
   "source": [
    "#MONK2 PROBLEM\n",
    "\n",
    "train_set = np.genfromtxt(\"../monks/monks2-train.txt\", delimiter=\" \", dtype=\"int\")[:,1:-1] #rimuove la colonna nan alla fine\n",
    "train_targets = np.genfromtxt(\"../monks/monks2-train.txt\", delimiter=\" \", dtype=\"int\")[:,:1]\n",
    "\n",
    "test_set = np.genfromtxt(\"../monks/monks2-test.txt\", delimiter=\" \", dtype=\"int\") [:,1:-1] #rimuove targets e colonna nan \n",
    "test_targets = np.genfromtxt(\"../monks/monks2-test.txt\", delimiter=\" \", dtype=\"int\") [:,0:1]"
   ]
  },
  {
   "cell_type": "code",
   "execution_count": 91,
   "metadata": {
    "scrolled": true
   },
   "outputs": [
    {
     "ename": "ValueError",
     "evalue": "shapes (16,11) and (10,10) not aligned: 11 (dim 1) != 10 (dim 0)",
     "output_type": "error",
     "traceback": [
      "\u001b[1;31m---------------------------------------------------------------------------\u001b[0m",
      "\u001b[1;31mValueError\u001b[0m                                Traceback (most recent call last)",
      "\u001b[1;32m<ipython-input-91-3dc851fbcfec>\u001b[0m in \u001b[0;36m<module>\u001b[1;34m\u001b[0m\n\u001b[0;32m      5\u001b[0m \u001b[0mnn\u001b[0m\u001b[1;33m.\u001b[0m\u001b[0mcompile\u001b[0m\u001b[1;33m(\u001b[0m\u001b[0moptimizer\u001b[0m\u001b[1;33m=\u001b[0m\u001b[0mSGD\u001b[0m\u001b[1;33m(\u001b[0m\u001b[0mlr_init\u001b[0m\u001b[1;33m=\u001b[0m\u001b[1;36m0.1\u001b[0m\u001b[1;33m,\u001b[0m \u001b[0mmomentum\u001b[0m\u001b[1;33m=\u001b[0m\u001b[1;36m0.8\u001b[0m\u001b[1;33m,\u001b[0m \u001b[0mnesterov\u001b[0m\u001b[1;33m=\u001b[0m\u001b[1;32mFalse\u001b[0m\u001b[1;33m,\u001b[0m \u001b[0mlr_sched\u001b[0m\u001b[1;33m=\u001b[0m\u001b[0mStepDecayScheduler\u001b[0m\u001b[1;33m(\u001b[0m\u001b[0mdrop\u001b[0m\u001b[1;33m=\u001b[0m\u001b[1;36m0.9\u001b[0m\u001b[1;33m,\u001b[0m \u001b[0mepochs_drop\u001b[0m\u001b[1;33m=\u001b[0m\u001b[1;36m10\u001b[0m\u001b[1;33m)\u001b[0m\u001b[1;33m)\u001b[0m\u001b[1;33m)\u001b[0m\u001b[1;33m\u001b[0m\u001b[1;33m\u001b[0m\u001b[0m\n\u001b[0;32m      6\u001b[0m \u001b[1;33m\u001b[0m\u001b[0m\n\u001b[1;32m----> 7\u001b[1;33m \u001b[0mnn\u001b[0m\u001b[1;33m.\u001b[0m\u001b[0mfit\u001b[0m\u001b[1;33m(\u001b[0m\u001b[0mtrain_set\u001b[0m\u001b[1;33m,\u001b[0m \u001b[0mtrain_targets\u001b[0m\u001b[1;33m,\u001b[0m \u001b[0mbatch_size\u001b[0m\u001b[1;33m=\u001b[0m\u001b[1;36m16\u001b[0m\u001b[1;33m,\u001b[0m \u001b[0mtest_size\u001b[0m\u001b[1;33m=\u001b[0m\u001b[1;36m0.5\u001b[0m\u001b[1;33m,\u001b[0m \u001b[0mepochs\u001b[0m\u001b[1;33m=\u001b[0m\u001b[1;36m5000\u001b[0m\u001b[1;33m,\u001b[0m \u001b[0mpatience\u001b[0m\u001b[1;33m=\u001b[0m\u001b[1;36m200\u001b[0m\u001b[1;33m,\u001b[0m \u001b[0msave_model\u001b[0m\u001b[1;33m=\u001b[0m\u001b[1;34m'best_nn_monk2_tmp'\u001b[0m\u001b[1;33m,\u001b[0m \u001b[0mverbose\u001b[0m\u001b[1;33m=\u001b[0m\u001b[1;32mTrue\u001b[0m\u001b[1;33m)\u001b[0m\u001b[1;33m\u001b[0m\u001b[1;33m\u001b[0m\u001b[0m\n\u001b[0m",
      "\u001b[1;32m~\\GitHub\\NNLib\\neural_network\\neural_network.py\u001b[0m in \u001b[0;36mfit\u001b[1;34m(self, dataset, targets, batch_size, buffer_size, test_size, epochs, patience, save_stats, save_model, verbose)\u001b[0m\n\u001b[0;32m    142\u001b[0m                 \u001b[0mtrain_slice\u001b[0m \u001b[1;33m=\u001b[0m \u001b[0mmin\u001b[0m\u001b[1;33m(\u001b[0m\u001b[0mj\u001b[0m\u001b[1;33m+\u001b[0m\u001b[0mbuffer_size\u001b[0m\u001b[1;33m,\u001b[0m \u001b[1;33m(\u001b[0m\u001b[0mcurr_batch\u001b[0m\u001b[1;33m*\u001b[0m\u001b[0mbatch_size\u001b[0m\u001b[1;33m)\u001b[0m\u001b[1;33m-\u001b[0m\u001b[0mj\u001b[0m\u001b[1;33m,\u001b[0m \u001b[0mlen\u001b[0m\u001b[1;33m(\u001b[0m\u001b[0mtrain_set\u001b[0m\u001b[1;33m)\u001b[0m\u001b[1;33m-\u001b[0m\u001b[0mj\u001b[0m\u001b[1;33m)\u001b[0m\u001b[1;33m\u001b[0m\u001b[1;33m\u001b[0m\u001b[0m\n\u001b[0;32m    143\u001b[0m                 \u001b[0my_true\u001b[0m \u001b[1;33m=\u001b[0m \u001b[0mtrain_targets\u001b[0m\u001b[1;33m[\u001b[0m\u001b[0mj\u001b[0m\u001b[1;33m:\u001b[0m\u001b[0mj\u001b[0m\u001b[1;33m+\u001b[0m\u001b[0mtrain_slice\u001b[0m\u001b[1;33m]\u001b[0m\u001b[1;33m\u001b[0m\u001b[1;33m\u001b[0m\u001b[0m\n\u001b[1;32m--> 144\u001b[1;33m                 \u001b[0my_pred\u001b[0m \u001b[1;33m=\u001b[0m \u001b[0mself\u001b[0m\u001b[1;33m.\u001b[0m\u001b[0m_feed_forward_\u001b[0m\u001b[1;33m(\u001b[0m\u001b[0mtrain_set\u001b[0m\u001b[1;33m[\u001b[0m\u001b[0mj\u001b[0m\u001b[1;33m:\u001b[0m\u001b[0mj\u001b[0m\u001b[1;33m+\u001b[0m\u001b[0mtrain_slice\u001b[0m\u001b[1;33m,\u001b[0m \u001b[1;33m:\u001b[0m\u001b[1;33m]\u001b[0m\u001b[1;33m)\u001b[0m\u001b[1;33m\u001b[0m\u001b[1;33m\u001b[0m\u001b[0m\n\u001b[0m\u001b[0;32m    145\u001b[0m                 \u001b[0mself\u001b[0m\u001b[1;33m.\u001b[0m\u001b[0moptimizer\u001b[0m\u001b[1;33m.\u001b[0m\u001b[0mprocess_loss\u001b[0m\u001b[1;33m(\u001b[0m\u001b[0my_true\u001b[0m\u001b[1;33m,\u001b[0m \u001b[0my_pred\u001b[0m\u001b[1;33m,\u001b[0m \u001b[0mself\u001b[0m\u001b[1;33m.\u001b[0m\u001b[0mlayers\u001b[0m\u001b[1;33m)\u001b[0m\u001b[1;33m\u001b[0m\u001b[1;33m\u001b[0m\u001b[0m\n\u001b[0;32m    146\u001b[0m \u001b[1;33m\u001b[0m\u001b[0m\n",
      "\u001b[1;32m~\\GitHub\\NNLib\\neural_network\\neural_network.py\u001b[0m in \u001b[0;36m_feed_forward_\u001b[1;34m(self, batch)\u001b[0m\n\u001b[0;32m     78\u001b[0m             \u001b[0mlayer\u001b[0m\u001b[1;33m.\u001b[0m\u001b[0minput\u001b[0m \u001b[1;33m=\u001b[0m \u001b[0mcurrent_input\u001b[0m\u001b[1;33m\u001b[0m\u001b[1;33m\u001b[0m\u001b[0m\n\u001b[0;32m     79\u001b[0m             \u001b[0mtmp_weights\u001b[0m\u001b[1;33m,\u001b[0m \u001b[0mtmp_bias\u001b[0m \u001b[1;33m=\u001b[0m \u001b[0mself\u001b[0m\u001b[1;33m.\u001b[0m\u001b[0moptimizer\u001b[0m\u001b[1;33m.\u001b[0m\u001b[0maux_params\u001b[0m\u001b[1;33m(\u001b[0m\u001b[0mlayer\u001b[0m\u001b[1;33m.\u001b[0m\u001b[0mweights\u001b[0m\u001b[1;33m,\u001b[0m \u001b[0mlayer\u001b[0m\u001b[1;33m.\u001b[0m\u001b[0mbias\u001b[0m\u001b[1;33m,\u001b[0m \u001b[0mi\u001b[0m\u001b[1;33m)\u001b[0m\u001b[1;33m\u001b[0m\u001b[1;33m\u001b[0m\u001b[0m\n\u001b[1;32m---> 80\u001b[1;33m             \u001b[0mlayer\u001b[0m\u001b[1;33m.\u001b[0m\u001b[0mnet\u001b[0m \u001b[1;33m=\u001b[0m \u001b[0mnp\u001b[0m\u001b[1;33m.\u001b[0m\u001b[0mdot\u001b[0m\u001b[1;33m(\u001b[0m\u001b[0mlayer\u001b[0m\u001b[1;33m.\u001b[0m\u001b[0minput\u001b[0m\u001b[1;33m,\u001b[0m \u001b[0mtmp_weights\u001b[0m\u001b[1;33m)\u001b[0m \u001b[1;33m+\u001b[0m \u001b[0mtmp_bias\u001b[0m\u001b[1;33m\u001b[0m\u001b[1;33m\u001b[0m\u001b[0m\n\u001b[0m\u001b[0;32m     81\u001b[0m             \u001b[0mlayer\u001b[0m\u001b[1;33m.\u001b[0m\u001b[0mout\u001b[0m \u001b[1;33m=\u001b[0m \u001b[0mlayer\u001b[0m\u001b[1;33m.\u001b[0m\u001b[0mf\u001b[0m\u001b[1;33m(\u001b[0m\u001b[0mlayer\u001b[0m\u001b[1;33m.\u001b[0m\u001b[0mnet\u001b[0m\u001b[1;33m)\u001b[0m\u001b[1;33m\u001b[0m\u001b[1;33m\u001b[0m\u001b[0m\n\u001b[0;32m     82\u001b[0m \u001b[1;33m\u001b[0m\u001b[0m\n",
      "\u001b[1;31mValueError\u001b[0m: shapes (16,11) and (10,10) not aligned: 11 (dim 1) != 10 (dim 0)"
     ]
    }
   ],
   "source": [
    "nn = NeuralNetwork()\n",
    "nn.add_layer('dense', 10, 'sigmoid', train_set.shape[1]) #input layer\n",
    "nn.add_layer('dense', 100, 'sigmoid') #input layer\n",
    "nn.add_layer('dense', 1, 'sigmoid')\n",
    "nn.compile(optimizer=SGD(lr_init=0.1, momentum=0.9, nesterov=False, lr_sched=StepDecayScheduler(drop=0.9, epochs_drop=10)))\n",
    "\n",
    "nn.fit(train_set, train_targets, batch_size=16, test_size=0.5, epochs=5000, patience=200, save_model='best_nn_monk2_tmp', verbose=True)"
   ]
  },
  {
   "cell_type": "code",
   "execution_count": 43,
   "metadata": {},
   "outputs": [
    {
     "data": {
      "text/plain": [
       "0.7291666666666666"
      ]
     },
     "execution_count": 43,
     "metadata": {},
     "output_type": "execute_result"
    }
   ],
   "source": [
    "prediction = nn.predict(test_set)\n",
    "accuracy_score(test_targets, prediction)"
   ]
  },
  {
   "cell_type": "code",
   "execution_count": 143,
   "metadata": {},
   "outputs": [],
   "source": [
    "#MONK3 PROBLEM\n",
    "\n",
    "train_set = np.genfromtxt(\"../monks/monks3-train.txt\", delimiter=\" \", dtype=\"int\")[:,1:-1] #rimuove la colonna nan alla fine\n",
    "train_targets = np.genfromtxt(\"../monks/monks3-train.txt\", delimiter=\" \", dtype=\"int\")[:,:1]\n",
    "\n",
    "test_set = np.genfromtxt(\"../monks/monks3-test.txt\", delimiter=\" \", dtype=\"int\") [:,1:-1] #rimuove targets e colonna nan \n",
    "test_targets = np.genfromtxt(\"../monks/monks3-test.txt\", delimiter=\" \", dtype=\"int\") [:,0:1]"
   ]
  },
  {
   "cell_type": "code",
   "execution_count": 225,
   "metadata": {},
   "outputs": [
    {
     "name": "stdout",
     "output_type": "stream",
     "text": [
      "Accuracy improved at epoch  1 :  0.5081967213114754\n",
      "Accuracy improved at epoch  2 :  0.7213114754098361\n",
      "Accuracy improved at epoch  3 :  0.8032786885245902\n",
      "Accuracy improved at epoch  6 :  0.8852459016393442\n",
      "Accuracy improved at epoch  14 :  0.9016393442622951\n",
      "Accuracy improved at epoch  15 :  0.9344262295081968\n",
      "Accuracy improved at epoch  30 :  0.9508196721311475\n"
     ]
    },
    {
     "data": {
      "text/plain": [
       "<neural_network.NeuralNetwork at 0x1c1e6604860>"
      ]
     },
     "execution_count": 225,
     "metadata": {},
     "output_type": "execute_result"
    }
   ],
   "source": [
    "nn = NeuralNetwork()\n",
    "nn.add_layer('dense', 40, 'sigmoid', train_set.shape[1]) #input layer\n",
    "nn.add_layer('dense', 30, 'sigmoid') #input layer\n",
    "nn.add_layer('dense', 1, 'sigmoid')\n",
    "nn.compile(optimizer=SGD(lr_init=0.25, momentum=0.8, nesterov=False, lr_sched=StepDecayScheduler(drop=0.1, epochs_drop=15)))\n",
    "\n",
    "nn.fit(train_set, train_targets, batch_size=16, test_size=0.5, epochs=5000, patience=200, save_model='best_nn_monk3_tmp', verbose=True)"
   ]
  },
  {
   "cell_type": "code",
   "execution_count": 226,
   "metadata": {},
   "outputs": [
    {
     "data": {
      "text/plain": [
       "0.8680555555555556"
      ]
     },
     "execution_count": 226,
     "metadata": {},
     "output_type": "execute_result"
    }
   ],
   "source": [
    "prediction = nn.predict(test_set)\n",
    "accuracy_score(test_targets, prediction)"
   ]
  },
  {
   "cell_type": "code",
   "execution_count": 7,
   "metadata": {},
   "outputs": [
    {
     "name": "stdout",
     "output_type": "stream",
     "text": [
      "(1.2315455289090356, {'activation': 'sigmoid', 'batch_size': 64, 'dropout': [0.5, 0.5, 0.5], 'epoch': 5000, 'l2_lambda': None, 'layers': (40, 40, 2), 'lr': 0.0001, 'lr_sched': <lr_schedulers.StepDecayScheduler object at 0x00000207E5717B00>, 'momentum': 0.9, 'nesterov': True, 'patience': 200, 'test_size': 0.3})\n",
      "(1.2452818317377465, {'activation': 'sigmoid', 'batch_size': 128, 'dropout': [0.5, 0.5, 0.5], 'epoch': 5000, 'l2_lambda': None, 'layers': (40, 40, 2), 'lr': 0.0001, 'lr_sched': <lr_schedulers.StepDecayScheduler object at 0x00000207E5717B70>, 'momentum': 0.9, 'nesterov': True, 'patience': 200, 'test_size': 0.3})\n",
      "(1.2514707021326856, {'activation': 'sigmoid', 'batch_size': 64, 'dropout': None, 'epoch': 5000, 'l2_lambda': None, 'layers': (40, 40, 2), 'lr': 0.0005, 'lr_sched': <lr_schedulers.StepDecayScheduler object at 0x00000207E5717B70>, 'momentum': 0.9, 'nesterov': True, 'patience': 200, 'test_size': 0.3})\n",
      "(1.2558965151036923, {'activation': 'sigmoid', 'batch_size': 64, 'dropout': [0.5, 0.5, 0.5], 'epoch': 5000, 'l2_lambda': None, 'layers': (40, 40, 2), 'lr': 0.0005, 'lr_sched': <lr_schedulers.StepDecayScheduler object at 0x00000207E5717B70>, 'momentum': 0.9, 'nesterov': False, 'patience': 200, 'test_size': 0.3})\n",
      "(1.2681314888649904, {'activation': 'sigmoid', 'batch_size': 64, 'dropout': [0.5, 0.5, 0.5], 'epoch': 5000, 'l2_lambda': None, 'layers': (40, 40, 2), 'lr': 0.0001, 'lr_sched': <lr_schedulers.StepDecayScheduler object at 0x00000207E5717B70>, 'momentum': 0.9, 'nesterov': False, 'patience': 200, 'test_size': 0.3})\n",
      "(1.2713267949465425, {'activation': 'sigmoid', 'batch_size': 64, 'dropout': [0.5, 0.5, 0.5], 'epoch': 5000, 'l2_lambda': None, 'layers': (40, 80, 2), 'lr': 0.0001, 'lr_sched': <lr_schedulers.StepDecayScheduler object at 0x00000207E5717BA8>, 'momentum': 0.9, 'nesterov': False, 'patience': 200, 'test_size': 0.3})\n",
      "(1.2716657400857587, {'activation': 'sigmoid', 'batch_size': 64, 'dropout': [0.5, 0.5, 0.5], 'epoch': 5000, 'l2_lambda': None, 'layers': (40, 40, 2), 'lr': 0.0001, 'lr_sched': <lr_schedulers.StepDecayScheduler object at 0x00000207E5717B00>, 'momentum': 0.9, 'nesterov': False, 'patience': 200, 'test_size': 0.3})\n",
      "(1.2781755282288962, {'activation': 'sigmoid', 'batch_size': 128, 'dropout': [0.5, 0.5, 0.5], 'epoch': 5000, 'l2_lambda': None, 'layers': (40, 80, 2), 'lr': 0.0001, 'lr_sched': <lr_schedulers.StepDecayScheduler object at 0x00000207E5717B70>, 'momentum': 0.9, 'nesterov': True, 'patience': 200, 'test_size': 0.3})\n",
      "(1.2783370120851307, {'activation': 'sigmoid', 'batch_size': 128, 'dropout': None, 'epoch': 5000, 'l2_lambda': None, 'layers': (40, 40, 2), 'lr': 0.0005, 'lr_sched': <lr_schedulers.StepDecayScheduler object at 0x00000207E5717BA8>, 'momentum': 0.9, 'nesterov': False, 'patience': 200, 'test_size': 0.3})\n",
      "(1.2791217168048818, {'activation': 'sigmoid', 'batch_size': 64, 'dropout': None, 'epoch': 5000, 'l2_lambda': None, 'layers': (40, 40, 2), 'lr': 0.001, 'lr_sched': <lr_schedulers.StepDecayScheduler object at 0x00000207E5717BA8>, 'momentum': 0.9, 'nesterov': True, 'patience': 200, 'test_size': 0.3})\n",
      "(1.2824253551865386, {'activation': 'sigmoid', 'batch_size': 64, 'dropout': None, 'epoch': 5000, 'l2_lambda': None, 'layers': (40, 80, 2), 'lr': 0.0005, 'lr_sched': <lr_schedulers.StepDecayScheduler object at 0x00000207E5717B00>, 'momentum': 0.9, 'nesterov': False, 'patience': 200, 'test_size': 0.3})\n",
      "(1.2863009485667753, {'activation': 'sigmoid', 'batch_size': 64, 'dropout': [0.5, 0.5, 0.5], 'epoch': 5000, 'l2_lambda': None, 'layers': (40, 40, 2), 'lr': 0.001, 'lr_sched': <lr_schedulers.StepDecayScheduler object at 0x00000207E5717B00>, 'momentum': 0.9, 'nesterov': True, 'patience': 200, 'test_size': 0.3})\n",
      "(1.2877896182158814, {'activation': 'sigmoid', 'batch_size': 64, 'dropout': [0.5, 0.5, 0.5], 'epoch': 5000, 'l2_lambda': None, 'layers': (40, 80, 2), 'lr': 0.0001, 'lr_sched': <lr_schedulers.StepDecayScheduler object at 0x00000207E5717B00>, 'momentum': 0.9, 'nesterov': False, 'patience': 200, 'test_size': 0.3})\n",
      "(1.2878686860407138, {'activation': 'sigmoid', 'batch_size': 64, 'dropout': None, 'epoch': 5000, 'l2_lambda': None, 'layers': (40, 40, 2), 'lr': 0.0005, 'lr_sched': <lr_schedulers.StepDecayScheduler object at 0x00000207E5717B00>, 'momentum': 0.9, 'nesterov': True, 'patience': 200, 'test_size': 0.3})\n",
      "(1.2922108485219022, {'activation': 'sigmoid', 'batch_size': 64, 'dropout': None, 'epoch': 5000, 'l2_lambda': None, 'layers': (40, 80, 2), 'lr': 0.0005, 'lr_sched': <lr_schedulers.StepDecayScheduler object at 0x00000207E5717BA8>, 'momentum': 0.9, 'nesterov': False, 'patience': 200, 'test_size': 0.3})\n",
      "(1.2928782414520157, {'activation': 'sigmoid', 'batch_size': 64, 'dropout': [0.5, 0.5, 0.5], 'epoch': 5000, 'l2_lambda': None, 'layers': (40, 80, 2), 'lr': 0.0001, 'lr_sched': <lr_schedulers.StepDecayScheduler object at 0x00000207E5717B70>, 'momentum': 0.9, 'nesterov': False, 'patience': 200, 'test_size': 0.3})\n",
      "(1.293612148230445, {'activation': 'sigmoid', 'batch_size': 64, 'dropout': None, 'epoch': 5000, 'l2_lambda': None, 'layers': (40, 40, 2), 'lr': 0.001, 'lr_sched': <lr_schedulers.StepDecayScheduler object at 0x00000207E5717B70>, 'momentum': 0.9, 'nesterov': True, 'patience': 200, 'test_size': 0.3})\n",
      "(1.29461328597872, {'activation': 'sigmoid', 'batch_size': 64, 'dropout': [0.5, 0.5, 0.5], 'epoch': 5000, 'l2_lambda': None, 'layers': (40, 40, 2), 'lr': 0.0005, 'lr_sched': <lr_schedulers.StepDecayScheduler object at 0x00000207E5717B00>, 'momentum': 0.9, 'nesterov': True, 'patience': 200, 'test_size': 0.3})\n",
      "(1.2959291486382856, {'activation': 'sigmoid', 'batch_size': 128, 'dropout': None, 'epoch': 5000, 'l2_lambda': None, 'layers': (40, 80, 2), 'lr': 0.0001, 'lr_sched': <lr_schedulers.StepDecayScheduler object at 0x00000207E5717B00>, 'momentum': 0.9, 'nesterov': False, 'patience': 200, 'test_size': 0.3})\n",
      "(1.2966087398007045, {'activation': 'sigmoid', 'batch_size': 64, 'dropout': None, 'epoch': 5000, 'l2_lambda': None, 'layers': (40, 80, 2), 'lr': 0.0001, 'lr_sched': <lr_schedulers.StepDecayScheduler object at 0x00000207E5717B70>, 'momentum': 0.9, 'nesterov': False, 'patience': 200, 'test_size': 0.3})\n",
      "(1.2971657066690478, {'activation': 'sigmoid', 'batch_size': 64, 'dropout': [0.5, 0.5, 0.5], 'epoch': 5000, 'l2_lambda': None, 'layers': (40, 80, 2), 'lr': 0.0001, 'lr_sched': <lr_schedulers.StepDecayScheduler object at 0x00000207E5717B70>, 'momentum': 0.9, 'nesterov': True, 'patience': 200, 'test_size': 0.3})\n",
      "(1.2973459246496448, {'activation': 'sigmoid', 'batch_size': 128, 'dropout': None, 'epoch': 5000, 'l2_lambda': None, 'layers': (40, 40, 2), 'lr': 0.0005, 'lr_sched': <lr_schedulers.StepDecayScheduler object at 0x00000207E5717B70>, 'momentum': 0.9, 'nesterov': True, 'patience': 200, 'test_size': 0.3})\n",
      "(1.2977922092370713, {'activation': 'sigmoid', 'batch_size': 128, 'dropout': [0.5, 0.5, 0.5], 'epoch': 5000, 'l2_lambda': None, 'layers': (40, 80, 2), 'lr': 0.0001, 'lr_sched': <lr_schedulers.StepDecayScheduler object at 0x00000207E5717BA8>, 'momentum': 0.9, 'nesterov': True, 'patience': 200, 'test_size': 0.3})\n",
      "(1.2991399946321263, {'activation': 'sigmoid', 'batch_size': 128, 'dropout': [0.5, 0.5, 0.5], 'epoch': 5000, 'l2_lambda': None, 'layers': (40, 40, 2), 'lr': 0.0005, 'lr_sched': <lr_schedulers.StepDecayScheduler object at 0x00000207E5717B00>, 'momentum': 0.9, 'nesterov': True, 'patience': 200, 'test_size': 0.3})\n",
      "(1.300346595206759, {'activation': 'sigmoid', 'batch_size': 64, 'dropout': [0.5, 0.5, 0.5], 'epoch': 5000, 'l2_lambda': None, 'layers': (40, 80, 2), 'lr': 0.0005, 'lr_sched': <lr_schedulers.StepDecayScheduler object at 0x00000207E5717B00>, 'momentum': 0.9, 'nesterov': True, 'patience': 200, 'test_size': 0.3})\n",
      "(1.3005113239149724, {'activation': 'sigmoid', 'batch_size': 64, 'dropout': [0.5, 0.5, 0.5], 'epoch': 5000, 'l2_lambda': None, 'layers': (40, 40, 2), 'lr': 0.001, 'lr_sched': <lr_schedulers.StepDecayScheduler object at 0x00000207E5717B00>, 'momentum': 0.9, 'nesterov': False, 'patience': 200, 'test_size': 0.3})\n",
      "(1.3018471734003454, {'activation': 'sigmoid', 'batch_size': 64, 'dropout': None, 'epoch': 5000, 'l2_lambda': None, 'layers': (40, 80, 2), 'lr': 0.0005, 'lr_sched': <lr_schedulers.StepDecayScheduler object at 0x00000207E5717B70>, 'momentum': 0.9, 'nesterov': True, 'patience': 200, 'test_size': 0.3})\n",
      "(1.30233016236534, {'activation': 'sigmoid', 'batch_size': 64, 'dropout': [0.5, 0.5, 0.5], 'epoch': 5000, 'l2_lambda': None, 'layers': (40, 40, 2), 'lr': 0.001, 'lr_sched': <lr_schedulers.StepDecayScheduler object at 0x00000207E5717BA8>, 'momentum': 0.9, 'nesterov': True, 'patience': 200, 'test_size': 0.3})\n",
      "(1.303443968311406, {'activation': 'sigmoid', 'batch_size': 128, 'dropout': [0.5, 0.5, 0.5], 'epoch': 5000, 'l2_lambda': None, 'layers': (40, 80, 2), 'lr': 0.0005, 'lr_sched': <lr_schedulers.StepDecayScheduler object at 0x00000207E5717BA8>, 'momentum': 0.9, 'nesterov': False, 'patience': 200, 'test_size': 0.3})\n",
      "(1.3043019077526685, {'activation': 'sigmoid', 'batch_size': 64, 'dropout': [0.5, 0.5, 0.5], 'epoch': 5000, 'l2_lambda': None, 'layers': (40, 40, 2), 'lr': 0.0001, 'lr_sched': <lr_schedulers.StepDecayScheduler object at 0x00000207E5717BA8>, 'momentum': 0.9, 'nesterov': False, 'patience': 200, 'test_size': 0.3})\n",
      "(1.306479670585538, {'activation': 'sigmoid', 'batch_size': 64, 'dropout': None, 'epoch': 5000, 'l2_lambda': None, 'layers': (40, 40, 2), 'lr': 0.0001, 'lr_sched': <lr_schedulers.StepDecayScheduler object at 0x00000207E5717BA8>, 'momentum': 0.9, 'nesterov': True, 'patience': 200, 'test_size': 0.3})\n",
      "(1.3083732967598278, {'activation': 'sigmoid', 'batch_size': 64, 'dropout': [0.5, 0.5, 0.5], 'epoch': 5000, 'l2_lambda': None, 'layers': (40, 80, 2), 'lr': 0.0001, 'lr_sched': <lr_schedulers.StepDecayScheduler object at 0x00000207E5717BA8>, 'momentum': 0.9, 'nesterov': True, 'patience': 200, 'test_size': 0.3})\n",
      "(1.3086379886801167, {'activation': 'sigmoid', 'batch_size': 64, 'dropout': [0.5, 0.5, 0.5], 'epoch': 5000, 'l2_lambda': None, 'layers': (40, 80, 2), 'lr': 0.001, 'lr_sched': <lr_schedulers.StepDecayScheduler object at 0x00000207E5717B00>, 'momentum': 0.9, 'nesterov': False, 'patience': 200, 'test_size': 0.3})\n",
      "(1.3089150201099187, {'activation': 'sigmoid', 'batch_size': 64, 'dropout': [0.5, 0.5, 0.5], 'epoch': 5000, 'l2_lambda': None, 'layers': (40, 40, 2), 'lr': 0.001, 'lr_sched': <lr_schedulers.StepDecayScheduler object at 0x00000207E5717B70>, 'momentum': 0.9, 'nesterov': False, 'patience': 200, 'test_size': 0.3})\n",
      "(1.310099173153011, {'activation': 'sigmoid', 'batch_size': 64, 'dropout': [0.5, 0.5, 0.5], 'epoch': 5000, 'l2_lambda': None, 'layers': (40, 80, 2), 'lr': 0.0001, 'lr_sched': <lr_schedulers.StepDecayScheduler object at 0x00000207E5717B00>, 'momentum': 0.9, 'nesterov': True, 'patience': 200, 'test_size': 0.3})\n",
      "(1.3119565451948183, {'activation': 'sigmoid', 'batch_size': 64, 'dropout': None, 'epoch': 5000, 'l2_lambda': None, 'layers': (40, 40, 2), 'lr': 0.0001, 'lr_sched': <lr_schedulers.StepDecayScheduler object at 0x00000207E5717B70>, 'momentum': 0.9, 'nesterov': True, 'patience': 200, 'test_size': 0.3})\n",
      "(1.312193799360661, {'activation': 'sigmoid', 'batch_size': 64, 'dropout': None, 'epoch': 5000, 'l2_lambda': None, 'layers': (40, 80, 2), 'lr': 0.0001, 'lr_sched': <lr_schedulers.StepDecayScheduler object at 0x00000207E5717BA8>, 'momentum': 0.9, 'nesterov': False, 'patience': 200, 'test_size': 0.3})\n",
      "(1.3142985641674814, {'activation': 'sigmoid', 'batch_size': 64, 'dropout': None, 'epoch': 5000, 'l2_lambda': None, 'layers': (40, 40, 2), 'lr': 0.0001, 'lr_sched': <lr_schedulers.StepDecayScheduler object at 0x00000207E5717B00>, 'momentum': 0.9, 'nesterov': True, 'patience': 200, 'test_size': 0.3})\n",
      "(1.3160994023646821, {'activation': 'sigmoid', 'batch_size': 128, 'dropout': None, 'epoch': 5000, 'l2_lambda': None, 'layers': (40, 80, 2), 'lr': 0.0001, 'lr_sched': <lr_schedulers.StepDecayScheduler object at 0x00000207E5717B70>, 'momentum': 0.9, 'nesterov': True, 'patience': 200, 'test_size': 0.3})\n",
      "(1.3175442975470866, {'activation': 'sigmoid', 'batch_size': 64, 'dropout': [0.5, 0.5, 0.5], 'epoch': 5000, 'l2_lambda': None, 'layers': (40, 80, 2), 'lr': 0.0005, 'lr_sched': <lr_schedulers.StepDecayScheduler object at 0x00000207E5717B70>, 'momentum': 0.9, 'nesterov': True, 'patience': 200, 'test_size': 0.3})\n",
      "(1.3191946383390851, {'activation': 'sigmoid', 'batch_size': 64, 'dropout': [0.5, 0.5, 0.5], 'epoch': 5000, 'l2_lambda': None, 'layers': (40, 80, 2), 'lr': 0.0005, 'lr_sched': <lr_schedulers.StepDecayScheduler object at 0x00000207E5717BA8>, 'momentum': 0.9, 'nesterov': True, 'patience': 200, 'test_size': 0.3})\n",
      "(1.3196140988436247, {'activation': 'sigmoid', 'batch_size': 64, 'dropout': [0.5, 0.5, 0.5], 'epoch': 5000, 'l2_lambda': None, 'layers': (40, 80, 2), 'lr': 0.0005, 'lr_sched': <lr_schedulers.StepDecayScheduler object at 0x00000207E5717BA8>, 'momentum': 0.9, 'nesterov': False, 'patience': 200, 'test_size': 0.3})\n",
      "(1.3196285093832876, {'activation': 'sigmoid', 'batch_size': 64, 'dropout': None, 'epoch': 5000, 'l2_lambda': None, 'layers': (40, 80, 2), 'lr': 0.0005, 'lr_sched': <lr_schedulers.StepDecayScheduler object at 0x00000207E5717BA8>, 'momentum': 0.9, 'nesterov': True, 'patience': 200, 'test_size': 0.3})\n",
      "(1.3196940202309646, {'activation': 'sigmoid', 'batch_size': 128, 'dropout': None, 'epoch': 5000, 'l2_lambda': None, 'layers': (40, 40, 2), 'lr': 0.0001, 'lr_sched': <lr_schedulers.StepDecayScheduler object at 0x00000207E5717B70>, 'momentum': 0.9, 'nesterov': True, 'patience': 200, 'test_size': 0.3})\n",
      "(1.3210817569237936, {'activation': 'sigmoid', 'batch_size': 64, 'dropout': [0.5, 0.5, 0.5], 'epoch': 5000, 'l2_lambda': None, 'layers': (40, 80, 2), 'lr': 0.0005, 'lr_sched': <lr_schedulers.StepDecayScheduler object at 0x00000207E5717B70>, 'momentum': 0.9, 'nesterov': False, 'patience': 200, 'test_size': 0.3})\n",
      "(1.321541049539199, {'activation': 'sigmoid', 'batch_size': 128, 'dropout': [0.5, 0.5, 0.5], 'epoch': 5000, 'l2_lambda': None, 'layers': (40, 80, 2), 'lr': 0.0001, 'lr_sched': <lr_schedulers.StepDecayScheduler object at 0x00000207E5717B70>, 'momentum': 0.9, 'nesterov': False, 'patience': 200, 'test_size': 0.3})\n",
      "(1.3219966867582365, {'activation': 'sigmoid', 'batch_size': 128, 'dropout': None, 'epoch': 5000, 'l2_lambda': None, 'layers': (40, 40, 2), 'lr': 0.0005, 'lr_sched': <lr_schedulers.StepDecayScheduler object at 0x00000207E5717B70>, 'momentum': 0.9, 'nesterov': False, 'patience': 200, 'test_size': 0.3})\n",
      "(1.3222823099011547, {'activation': 'sigmoid', 'batch_size': 64, 'dropout': None, 'epoch': 5000, 'l2_lambda': None, 'layers': (40, 40, 2), 'lr': 0.0005, 'lr_sched': <lr_schedulers.StepDecayScheduler object at 0x00000207E5717BA8>, 'momentum': 0.9, 'nesterov': True, 'patience': 200, 'test_size': 0.3})\n",
      "(1.322878613668464, {'activation': 'sigmoid', 'batch_size': 64, 'dropout': None, 'epoch': 5000, 'l2_lambda': None, 'layers': (40, 80, 2), 'lr': 0.0005, 'lr_sched': <lr_schedulers.StepDecayScheduler object at 0x00000207E5717B70>, 'momentum': 0.9, 'nesterov': False, 'patience': 200, 'test_size': 0.3})\n",
      "(1.3229887757403695, {'activation': 'sigmoid', 'batch_size': 128, 'dropout': None, 'epoch': 5000, 'l2_lambda': None, 'layers': (40, 40, 2), 'lr': 0.0001, 'lr_sched': <lr_schedulers.StepDecayScheduler object at 0x00000207E5717B00>, 'momentum': 0.9, 'nesterov': True, 'patience': 200, 'test_size': 0.3})\n",
      "(1.3233436329697865, {'activation': 'sigmoid', 'batch_size': 128, 'dropout': [0.5, 0.5, 0.5], 'epoch': 5000, 'l2_lambda': None, 'layers': (40, 40, 2), 'lr': 0.0001, 'lr_sched': <lr_schedulers.StepDecayScheduler object at 0x00000207E5717B00>, 'momentum': 0.9, 'nesterov': True, 'patience': 200, 'test_size': 0.3})\n",
      "(1.324053172682585, {'activation': 'sigmoid', 'batch_size': 64, 'dropout': None, 'epoch': 5000, 'l2_lambda': None, 'layers': (40, 80, 2), 'lr': 0.0001, 'lr_sched': <lr_schedulers.StepDecayScheduler object at 0x00000207E5717B00>, 'momentum': 0.9, 'nesterov': True, 'patience': 200, 'test_size': 0.3})\n",
      "(1.32423157702598, {'activation': 'sigmoid', 'batch_size': 64, 'dropout': [0.5, 0.5, 0.5], 'epoch': 5000, 'l2_lambda': None, 'layers': (40, 40, 2), 'lr': 0.0001, 'lr_sched': <lr_schedulers.StepDecayScheduler object at 0x00000207E5717B70>, 'momentum': 0.9, 'nesterov': True, 'patience': 200, 'test_size': 0.3})\n",
      "(1.3244405834638784, {'activation': 'sigmoid', 'batch_size': 128, 'dropout': [0.5, 0.5, 0.5], 'epoch': 5000, 'l2_lambda': None, 'layers': (40, 80, 2), 'lr': 0.0001, 'lr_sched': <lr_schedulers.StepDecayScheduler object at 0x00000207E5717BA8>, 'momentum': 0.9, 'nesterov': False, 'patience': 200, 'test_size': 0.3})\n",
      "(1.3249843544738138, {'activation': 'sigmoid', 'batch_size': 128, 'dropout': None, 'epoch': 5000, 'l2_lambda': None, 'layers': (40, 80, 2), 'lr': 0.0001, 'lr_sched': <lr_schedulers.StepDecayScheduler object at 0x00000207E5717B00>, 'momentum': 0.9, 'nesterov': True, 'patience': 200, 'test_size': 0.3})\n",
      "(1.3280285586515814, {'activation': 'sigmoid', 'batch_size': 64, 'dropout': [0.5, 0.5, 0.5], 'epoch': 5000, 'l2_lambda': None, 'layers': (40, 40, 2), 'lr': 0.0001, 'lr_sched': <lr_schedulers.StepDecayScheduler object at 0x00000207E5717BA8>, 'momentum': 0.9, 'nesterov': True, 'patience': 200, 'test_size': 0.3})\n",
      "(1.3281387068172605, {'activation': 'sigmoid', 'batch_size': 64, 'dropout': None, 'epoch': 5000, 'l2_lambda': None, 'layers': (40, 40, 2), 'lr': 0.0005, 'lr_sched': <lr_schedulers.StepDecayScheduler object at 0x00000207E5717B00>, 'momentum': 0.9, 'nesterov': False, 'patience': 200, 'test_size': 0.3})\n",
      "(1.32875011902732, {'activation': 'sigmoid', 'batch_size': 64, 'dropout': None, 'epoch': 5000, 'l2_lambda': None, 'layers': (40, 80, 2), 'lr': 0.001, 'lr_sched': <lr_schedulers.StepDecayScheduler object at 0x00000207E5717B00>, 'momentum': 0.9, 'nesterov': True, 'patience': 200, 'test_size': 0.3})\n",
      "(1.3293011935788905, {'activation': 'sigmoid', 'batch_size': 64, 'dropout': None, 'epoch': 5000, 'l2_lambda': None, 'layers': (40, 80, 2), 'lr': 0.0001, 'lr_sched': <lr_schedulers.StepDecayScheduler object at 0x00000207E5717BA8>, 'momentum': 0.9, 'nesterov': True, 'patience': 200, 'test_size': 0.3})\n",
      "(1.3295053694463863, {'activation': 'sigmoid', 'batch_size': 128, 'dropout': None, 'epoch': 5000, 'l2_lambda': None, 'layers': (40, 80, 2), 'lr': 0.0005, 'lr_sched': <lr_schedulers.StepDecayScheduler object at 0x00000207E5717B00>, 'momentum': 0.9, 'nesterov': False, 'patience': 200, 'test_size': 0.3})\n",
      "(1.3301926321869055, {'activation': 'sigmoid', 'batch_size': 128, 'dropout': [0.5, 0.5, 0.5], 'epoch': 5000, 'l2_lambda': None, 'layers': (40, 40, 2), 'lr': 0.0001, 'lr_sched': <lr_schedulers.StepDecayScheduler object at 0x00000207E5717B00>, 'momentum': 0.9, 'nesterov': False, 'patience': 200, 'test_size': 0.3})\n",
      "(1.3304410324768021, {'activation': 'sigmoid', 'batch_size': 128, 'dropout': None, 'epoch': 5000, 'l2_lambda': None, 'layers': (40, 40, 2), 'lr': 0.0001, 'lr_sched': <lr_schedulers.StepDecayScheduler object at 0x00000207E5717BA8>, 'momentum': 0.9, 'nesterov': False, 'patience': 200, 'test_size': 0.3})\n",
      "(1.3305828722811384, {'activation': 'sigmoid', 'batch_size': 128, 'dropout': None, 'epoch': 5000, 'l2_lambda': None, 'layers': (40, 40, 2), 'lr': 0.0001, 'lr_sched': <lr_schedulers.StepDecayScheduler object at 0x00000207E5717BA8>, 'momentum': 0.9, 'nesterov': True, 'patience': 200, 'test_size': 0.3})\n",
      "(1.3337026914387622, {'activation': 'sigmoid', 'batch_size': 64, 'dropout': None, 'epoch': 5000, 'l2_lambda': None, 'layers': (40, 80, 2), 'lr': 0.0001, 'lr_sched': <lr_schedulers.StepDecayScheduler object at 0x00000207E5717B70>, 'momentum': 0.9, 'nesterov': True, 'patience': 200, 'test_size': 0.3})\n",
      "(1.3350270304886422, {'activation': 'sigmoid', 'batch_size': 64, 'dropout': None, 'epoch': 5000, 'l2_lambda': None, 'layers': (40, 40, 2), 'lr': 0.0001, 'lr_sched': <lr_schedulers.StepDecayScheduler object at 0x00000207E5717B70>, 'momentum': 0.9, 'nesterov': False, 'patience': 200, 'test_size': 0.3})\n",
      "(1.3361512347687041, {'activation': 'sigmoid', 'batch_size': 64, 'dropout': None, 'epoch': 5000, 'l2_lambda': None, 'layers': (40, 40, 2), 'lr': 0.0005, 'lr_sched': <lr_schedulers.StepDecayScheduler object at 0x00000207E5717B70>, 'momentum': 0.9, 'nesterov': False, 'patience': 200, 'test_size': 0.3})\n",
      "(1.3362010452012756, {'activation': 'sigmoid', 'batch_size': 128, 'dropout': None, 'epoch': 5000, 'l2_lambda': None, 'layers': (40, 40, 2), 'lr': 0.0001, 'lr_sched': <lr_schedulers.StepDecayScheduler object at 0x00000207E5717B00>, 'momentum': 0.9, 'nesterov': False, 'patience': 200, 'test_size': 0.3})\n",
      "(1.3371448089419093, {'activation': 'sigmoid', 'batch_size': 64, 'dropout': None, 'epoch': 5000, 'l2_lambda': None, 'layers': (40, 80, 2), 'lr': 0.001, 'lr_sched': <lr_schedulers.StepDecayScheduler object at 0x00000207E5717BA8>, 'momentum': 0.9, 'nesterov': True, 'patience': 200, 'test_size': 0.3})\n",
      "(1.3376208487070664, {'activation': 'sigmoid', 'batch_size': 128, 'dropout': [0.5, 0.5, 0.5], 'epoch': 5000, 'l2_lambda': None, 'layers': (40, 40, 2), 'lr': 0.0005, 'lr_sched': <lr_schedulers.StepDecayScheduler object at 0x00000207E5717B70>, 'momentum': 0.9, 'nesterov': True, 'patience': 200, 'test_size': 0.3})\n",
      "(1.3384154479695438, {'activation': 'sigmoid', 'batch_size': 64, 'dropout': [0.5, 0.5, 0.5], 'epoch': 5000, 'l2_lambda': None, 'layers': (40, 80, 2), 'lr': 0.0005, 'lr_sched': <lr_schedulers.StepDecayScheduler object at 0x00000207E5717B00>, 'momentum': 0.9, 'nesterov': False, 'patience': 200, 'test_size': 0.3})\n",
      "(1.343320056072378, {'activation': 'sigmoid', 'batch_size': 128, 'dropout': None, 'epoch': 5000, 'l2_lambda': None, 'layers': (40, 80, 2), 'lr': 0.0001, 'lr_sched': <lr_schedulers.StepDecayScheduler object at 0x00000207E5717BA8>, 'momentum': 0.9, 'nesterov': True, 'patience': 200, 'test_size': 0.3})\n",
      "(1.3438958285229068, {'activation': 'sigmoid', 'batch_size': 128, 'dropout': [0.5, 0.5, 0.5], 'epoch': 5000, 'l2_lambda': None, 'layers': (40, 80, 2), 'lr': 0.0001, 'lr_sched': <lr_schedulers.StepDecayScheduler object at 0x00000207E5717B00>, 'momentum': 0.9, 'nesterov': False, 'patience': 200, 'test_size': 0.3})\n",
      "(1.343974892915104, {'activation': 'sigmoid', 'batch_size': 128, 'dropout': [0.5, 0.5, 0.5], 'epoch': 5000, 'l2_lambda': None, 'layers': (40, 40, 2), 'lr': 0.0001, 'lr_sched': <lr_schedulers.StepDecayScheduler object at 0x00000207E5717BA8>, 'momentum': 0.9, 'nesterov': False, 'patience': 200, 'test_size': 0.3})\n",
      "(1.3447469926769735, {'activation': 'sigmoid', 'batch_size': 64, 'dropout': [0.5, 0.5, 0.5], 'epoch': 5000, 'l2_lambda': None, 'layers': (40, 40, 2), 'lr': 0.0005, 'lr_sched': <lr_schedulers.StepDecayScheduler object at 0x00000207E5717B00>, 'momentum': 0.9, 'nesterov': False, 'patience': 200, 'test_size': 0.3})\n",
      "(1.3456384976997369, {'activation': 'sigmoid', 'batch_size': 64, 'dropout': None, 'epoch': 5000, 'l2_lambda': None, 'layers': (40, 80, 2), 'lr': 0.0005, 'lr_sched': <lr_schedulers.StepDecayScheduler object at 0x00000207E5717B00>, 'momentum': 0.9, 'nesterov': True, 'patience': 200, 'test_size': 0.3})\n",
      "(1.3466082548907785, {'activation': 'sigmoid', 'batch_size': 128, 'dropout': None, 'epoch': 5000, 'l2_lambda': None, 'layers': (40, 40, 2), 'lr': 0.0001, 'lr_sched': <lr_schedulers.StepDecayScheduler object at 0x00000207E5717B70>, 'momentum': 0.9, 'nesterov': False, 'patience': 200, 'test_size': 0.3})\n",
      "(1.3466750187504815, {'activation': 'sigmoid', 'batch_size': 128, 'dropout': [0.5, 0.5, 0.5], 'epoch': 5000, 'l2_lambda': None, 'layers': (40, 80, 2), 'lr': 0.0005, 'lr_sched': <lr_schedulers.StepDecayScheduler object at 0x00000207E5717BA8>, 'momentum': 0.9, 'nesterov': True, 'patience': 200, 'test_size': 0.3})\n",
      "(1.347465846462474, {'activation': 'sigmoid', 'batch_size': 64, 'dropout': None, 'epoch': 5000, 'l2_lambda': None, 'layers': (40, 40, 2), 'lr': 0.0001, 'lr_sched': <lr_schedulers.StepDecayScheduler object at 0x00000207E5717B00>, 'momentum': 0.9, 'nesterov': False, 'patience': 200, 'test_size': 0.3})\n",
      "(1.3477638481847256, {'activation': 'sigmoid', 'batch_size': 64, 'dropout': None, 'epoch': 5000, 'l2_lambda': None, 'layers': (40, 40, 2), 'lr': 0.0001, 'lr_sched': <lr_schedulers.StepDecayScheduler object at 0x00000207E5717BA8>, 'momentum': 0.9, 'nesterov': False, 'patience': 200, 'test_size': 0.3})\n",
      "(1.348094933705516, {'activation': 'sigmoid', 'batch_size': 64, 'dropout': [0.5, 0.5, 0.5], 'epoch': 5000, 'l2_lambda': None, 'layers': (40, 40, 2), 'lr': 0.0005, 'lr_sched': <lr_schedulers.StepDecayScheduler object at 0x00000207E5717BA8>, 'momentum': 0.9, 'nesterov': True, 'patience': 200, 'test_size': 0.3})\n",
      "(1.3483805192647564, {'activation': 'sigmoid', 'batch_size': 128, 'dropout': None, 'epoch': 5000, 'l2_lambda': None, 'layers': (40, 80, 2), 'lr': 0.0001, 'lr_sched': <lr_schedulers.StepDecayScheduler object at 0x00000207E5717B70>, 'momentum': 0.9, 'nesterov': False, 'patience': 200, 'test_size': 0.3})\n",
      "(1.3487409443601432, {'activation': 'sigmoid', 'batch_size': 128, 'dropout': None, 'epoch': 5000, 'l2_lambda': None, 'layers': (40, 40, 2), 'lr': 0.0005, 'lr_sched': <lr_schedulers.StepDecayScheduler object at 0x00000207E5717BA8>, 'momentum': 0.9, 'nesterov': True, 'patience': 200, 'test_size': 0.3})\n",
      "(1.3498099088294753, {'activation': 'sigmoid', 'batch_size': 64, 'dropout': None, 'epoch': 5000, 'l2_lambda': None, 'layers': (40, 80, 2), 'lr': 0.0001, 'lr_sched': <lr_schedulers.StepDecayScheduler object at 0x00000207E5717B00>, 'momentum': 0.9, 'nesterov': False, 'patience': 200, 'test_size': 0.3})\n",
      "(1.3509066766490558, {'activation': 'sigmoid', 'batch_size': 64, 'dropout': None, 'epoch': 5000, 'l2_lambda': None, 'layers': (40, 80, 2), 'lr': 0.001, 'lr_sched': <lr_schedulers.StepDecayScheduler object at 0x00000207E5717B70>, 'momentum': 0.9, 'nesterov': False, 'patience': 200, 'test_size': 0.3})\n",
      "(1.3515745250864315, {'activation': 'sigmoid', 'batch_size': 128, 'dropout': None, 'epoch': 5000, 'l2_lambda': None, 'layers': (40, 40, 2), 'lr': 0.0005, 'lr_sched': <lr_schedulers.StepDecayScheduler object at 0x00000207E5717B00>, 'momentum': 0.9, 'nesterov': True, 'patience': 200, 'test_size': 0.3})\n",
      "(1.3517111450149144, {'activation': 'sigmoid', 'batch_size': 128, 'dropout': None, 'epoch': 5000, 'l2_lambda': None, 'layers': (40, 80, 2), 'lr': 0.0005, 'lr_sched': <lr_schedulers.StepDecayScheduler object at 0x00000207E5717B70>, 'momentum': 0.9, 'nesterov': False, 'patience': 200, 'test_size': 0.3})\n",
      "(1.3539400605499894, {'activation': 'sigmoid', 'batch_size': 64, 'dropout': None, 'epoch': 5000, 'l2_lambda': None, 'layers': (40, 40, 2), 'lr': 0.0005, 'lr_sched': <lr_schedulers.StepDecayScheduler object at 0x00000207E5717BA8>, 'momentum': 0.9, 'nesterov': False, 'patience': 200, 'test_size': 0.3})\n",
      "(1.354101063480843, {'activation': 'sigmoid', 'batch_size': 64, 'dropout': [0.5, 0.5, 0.5], 'epoch': 5000, 'l2_lambda': None, 'layers': (40, 40, 2), 'lr': 0.0005, 'lr_sched': <lr_schedulers.StepDecayScheduler object at 0x00000207E5717B70>, 'momentum': 0.9, 'nesterov': True, 'patience': 200, 'test_size': 0.3})\n",
      "(1.3545372711834813, {'activation': 'sigmoid', 'batch_size': 64, 'dropout': None, 'epoch': 5000, 'l2_lambda': None, 'layers': (40, 40, 2), 'lr': 0.001, 'lr_sched': <lr_schedulers.StepDecayScheduler object at 0x00000207E5717B00>, 'momentum': 0.9, 'nesterov': True, 'patience': 200, 'test_size': 0.3})\n",
      "(1.3566112458164017, {'activation': 'sigmoid', 'batch_size': 128, 'dropout': None, 'epoch': 5000, 'l2_lambda': None, 'layers': (40, 80, 2), 'lr': 0.0001, 'lr_sched': <lr_schedulers.StepDecayScheduler object at 0x00000207E5717BA8>, 'momentum': 0.9, 'nesterov': False, 'patience': 200, 'test_size': 0.3})\n",
      "(1.3571176757021142, {'activation': 'sigmoid', 'batch_size': 128, 'dropout': [0.5, 0.5, 0.5], 'epoch': 5000, 'l2_lambda': None, 'layers': (40, 40, 2), 'lr': 0.0001, 'lr_sched': <lr_schedulers.StepDecayScheduler object at 0x00000207E5717B70>, 'momentum': 0.9, 'nesterov': False, 'patience': 200, 'test_size': 0.3})\n",
      "(1.3603540041614492, {'activation': 'sigmoid', 'batch_size': 128, 'dropout': [0.5, 0.5, 0.5], 'epoch': 5000, 'l2_lambda': None, 'layers': (40, 80, 2), 'lr': 0.0005, 'lr_sched': <lr_schedulers.StepDecayScheduler object at 0x00000207E5717B70>, 'momentum': 0.9, 'nesterov': True, 'patience': 200, 'test_size': 0.3})\n",
      "(1.3623760631732231, {'activation': 'sigmoid', 'batch_size': 128, 'dropout': [0.5, 0.5, 0.5], 'epoch': 5000, 'l2_lambda': None, 'layers': (40, 40, 2), 'lr': 0.0001, 'lr_sched': <lr_schedulers.StepDecayScheduler object at 0x00000207E5717BA8>, 'momentum': 0.9, 'nesterov': True, 'patience': 200, 'test_size': 0.3})\n",
      "(1.362828888592297, {'activation': 'sigmoid', 'batch_size': 128, 'dropout': None, 'epoch': 5000, 'l2_lambda': None, 'layers': (40, 40, 2), 'lr': 0.001, 'lr_sched': <lr_schedulers.StepDecayScheduler object at 0x00000207E5717B70>, 'momentum': 0.9, 'nesterov': False, 'patience': 200, 'test_size': 0.3})\n",
      "(1.3682208909735996, {'activation': 'sigmoid', 'batch_size': 64, 'dropout': [0.5, 0.5, 0.5], 'epoch': 5000, 'l2_lambda': None, 'layers': (40, 80, 2), 'lr': 0.001, 'lr_sched': <lr_schedulers.StepDecayScheduler object at 0x00000207E5717BA8>, 'momentum': 0.9, 'nesterov': True, 'patience': 200, 'test_size': 0.3})\n",
      "(1.3691975110320325, {'activation': 'sigmoid', 'batch_size': 128, 'dropout': [0.5, 0.5, 0.5], 'epoch': 5000, 'l2_lambda': None, 'layers': (40, 80, 2), 'lr': 0.0001, 'lr_sched': <lr_schedulers.StepDecayScheduler object at 0x00000207E5717B00>, 'momentum': 0.9, 'nesterov': True, 'patience': 200, 'test_size': 0.3})\n",
      "(1.371609529477877, {'activation': 'sigmoid', 'batch_size': 128, 'dropout': [0.5, 0.5, 0.5], 'epoch': 5000, 'l2_lambda': None, 'layers': (40, 40, 2), 'lr': 0.0005, 'lr_sched': <lr_schedulers.StepDecayScheduler object at 0x00000207E5717B00>, 'momentum': 0.9, 'nesterov': False, 'patience': 200, 'test_size': 0.3})\n",
      "(1.3758581613515404, {'activation': 'sigmoid', 'batch_size': 64, 'dropout': [0.5, 0.5, 0.5], 'epoch': 5000, 'l2_lambda': None, 'layers': (40, 40, 2), 'lr': 0.001, 'lr_sched': <lr_schedulers.StepDecayScheduler object at 0x00000207E5717B70>, 'momentum': 0.9, 'nesterov': True, 'patience': 200, 'test_size': 0.3})\n",
      "(1.3871550877515741, {'activation': 'sigmoid', 'batch_size': 128, 'dropout': [0.5, 0.5, 0.5], 'epoch': 5000, 'l2_lambda': None, 'layers': (40, 40, 2), 'lr': 0.001, 'lr_sched': <lr_schedulers.StepDecayScheduler object at 0x00000207E5717B00>, 'momentum': 0.9, 'nesterov': False, 'patience': 200, 'test_size': 0.3})\n",
      "(1.3892586486523857, {'activation': 'sigmoid', 'batch_size': 64, 'dropout': [0.5, 0.5, 0.5], 'epoch': 5000, 'l2_lambda': None, 'layers': (40, 80, 2), 'lr': 0.001, 'lr_sched': <lr_schedulers.StepDecayScheduler object at 0x00000207E5717B70>, 'momentum': 0.9, 'nesterov': False, 'patience': 200, 'test_size': 0.3})\n",
      "(1.393871572965567, {'activation': 'sigmoid', 'batch_size': 128, 'dropout': [0.5, 0.5, 0.5], 'epoch': 5000, 'l2_lambda': None, 'layers': (40, 40, 2), 'lr': 0.0005, 'lr_sched': <lr_schedulers.StepDecayScheduler object at 0x00000207E5717BA8>, 'momentum': 0.9, 'nesterov': False, 'patience': 200, 'test_size': 0.3})\n",
      "(1.3946337637203678, {'activation': 'sigmoid', 'batch_size': 128, 'dropout': [0.5, 0.5, 0.5], 'epoch': 5000, 'l2_lambda': None, 'layers': (40, 40, 2), 'lr': 0.0005, 'lr_sched': <lr_schedulers.StepDecayScheduler object at 0x00000207E5717B70>, 'momentum': 0.9, 'nesterov': False, 'patience': 200, 'test_size': 0.3})\n",
      "(1.3970349925225882, {'activation': 'sigmoid', 'batch_size': 128, 'dropout': [0.5, 0.5, 0.5], 'epoch': 5000, 'l2_lambda': None, 'layers': (40, 80, 2), 'lr': 0.0005, 'lr_sched': <lr_schedulers.StepDecayScheduler object at 0x00000207E5717B70>, 'momentum': 0.9, 'nesterov': False, 'patience': 200, 'test_size': 0.3})\n",
      "(1.400376300792553, {'activation': 'sigmoid', 'batch_size': 128, 'dropout': None, 'epoch': 5000, 'l2_lambda': None, 'layers': (40, 80, 2), 'lr': 0.0005, 'lr_sched': <lr_schedulers.StepDecayScheduler object at 0x00000207E5717B70>, 'momentum': 0.9, 'nesterov': True, 'patience': 200, 'test_size': 0.3})\n",
      "(1.4005401349182687, {'activation': 'sigmoid', 'batch_size': 128, 'dropout': [0.5, 0.5, 0.5], 'epoch': 5000, 'l2_lambda': None, 'layers': (40, 40, 2), 'lr': 0.001, 'lr_sched': <lr_schedulers.StepDecayScheduler object at 0x00000207E5717B70>, 'momentum': 0.9, 'nesterov': False, 'patience': 200, 'test_size': 0.3})\n",
      "(1.4012540345813944, {'activation': 'sigmoid', 'batch_size': 64, 'dropout': None, 'epoch': 5000, 'l2_lambda': None, 'layers': (40, 40, 2), 'lr': 0.001, 'lr_sched': <lr_schedulers.StepDecayScheduler object at 0x00000207E5717BA8>, 'momentum': 0.9, 'nesterov': False, 'patience': 200, 'test_size': 0.3})\n",
      "(1.4035189576166383, {'activation': 'sigmoid', 'batch_size': 64, 'dropout': [0.5, 0.5, 0.5], 'epoch': 5000, 'l2_lambda': None, 'layers': (40, 80, 2), 'lr': 0.001, 'lr_sched': <lr_schedulers.StepDecayScheduler object at 0x00000207E5717BA8>, 'momentum': 0.9, 'nesterov': False, 'patience': 200, 'test_size': 0.3})\n",
      "(1.4042253214172427, {'activation': 'sigmoid', 'batch_size': 128, 'dropout': [0.5, 0.5, 0.5], 'epoch': 5000, 'l2_lambda': None, 'layers': (40, 40, 2), 'lr': 0.0005, 'lr_sched': <lr_schedulers.StepDecayScheduler object at 0x00000207E5717BA8>, 'momentum': 0.9, 'nesterov': True, 'patience': 200, 'test_size': 0.3})\n",
      "(1.4058739638855384, {'activation': 'sigmoid', 'batch_size': 128, 'dropout': None, 'epoch': 5000, 'l2_lambda': None, 'layers': (40, 80, 2), 'lr': 0.0005, 'lr_sched': <lr_schedulers.StepDecayScheduler object at 0x00000207E5717B00>, 'momentum': 0.9, 'nesterov': True, 'patience': 200, 'test_size': 0.3})\n",
      "(1.4088434316455665, {'activation': 'sigmoid', 'batch_size': 128, 'dropout': [0.5, 0.5, 0.5], 'epoch': 5000, 'l2_lambda': None, 'layers': (40, 80, 2), 'lr': 0.0005, 'lr_sched': <lr_schedulers.StepDecayScheduler object at 0x00000207E5717B00>, 'momentum': 0.9, 'nesterov': False, 'patience': 200, 'test_size': 0.3})\n",
      "(1.4130751128033783, {'activation': 'sigmoid', 'batch_size': 64, 'dropout': [0.5, 0.5, 0.5], 'epoch': 5000, 'l2_lambda': None, 'layers': (40, 40, 2), 'lr': 0.001, 'lr_sched': <lr_schedulers.StepDecayScheduler object at 0x00000207E5717BA8>, 'momentum': 0.9, 'nesterov': False, 'patience': 200, 'test_size': 0.3})\n",
      "(1.4175594013572084, {'activation': 'sigmoid', 'batch_size': 64, 'dropout': None, 'epoch': 5000, 'l2_lambda': None, 'layers': (40, 80, 2), 'lr': 0.001, 'lr_sched': <lr_schedulers.StepDecayScheduler object at 0x00000207E5717BA8>, 'momentum': 0.9, 'nesterov': False, 'patience': 200, 'test_size': 0.3})\n",
      "(1.4214159125448766, {'activation': 'sigmoid', 'batch_size': 64, 'dropout': [0.5, 0.5, 0.5], 'epoch': 5000, 'l2_lambda': None, 'layers': (40, 80, 2), 'lr': 0.001, 'lr_sched': <lr_schedulers.StepDecayScheduler object at 0x00000207E5717B70>, 'momentum': 0.9, 'nesterov': True, 'patience': 200, 'test_size': 0.3})\n",
      "(1.4221247982678007, {'activation': 'sigmoid', 'batch_size': 64, 'dropout': None, 'epoch': 5000, 'l2_lambda': None, 'layers': (40, 80, 2), 'lr': 0.001, 'lr_sched': <lr_schedulers.StepDecayScheduler object at 0x00000207E5717B00>, 'momentum': 0.9, 'nesterov': False, 'patience': 200, 'test_size': 0.3})\n",
      "(1.4260948132438767, {'activation': 'sigmoid', 'batch_size': 128, 'dropout': [0.5, 0.5, 0.5], 'epoch': 5000, 'l2_lambda': None, 'layers': (40, 80, 2), 'lr': 0.001, 'lr_sched': <lr_schedulers.StepDecayScheduler object at 0x00000207E5717B70>, 'momentum': 0.9, 'nesterov': False, 'patience': 200, 'test_size': 0.3})\n",
      "(1.4321968886396401, {'activation': 'sigmoid', 'batch_size': 128, 'dropout': None, 'epoch': 5000, 'l2_lambda': None, 'layers': (40, 40, 2), 'lr': 0.0005, 'lr_sched': <lr_schedulers.StepDecayScheduler object at 0x00000207E5717B00>, 'momentum': 0.9, 'nesterov': False, 'patience': 200, 'test_size': 0.3})\n",
      "(1.4327739282902003, {'activation': 'sigmoid', 'batch_size': 128, 'dropout': None, 'epoch': 5000, 'l2_lambda': None, 'layers': (40, 80, 2), 'lr': 0.0005, 'lr_sched': <lr_schedulers.StepDecayScheduler object at 0x00000207E5717BA8>, 'momentum': 0.9, 'nesterov': False, 'patience': 200, 'test_size': 0.3})\n",
      "(1.445411934887735, {'activation': 'sigmoid', 'batch_size': 64, 'dropout': None, 'epoch': 5000, 'l2_lambda': None, 'layers': (40, 40, 2), 'lr': 0.001, 'lr_sched': <lr_schedulers.StepDecayScheduler object at 0x00000207E5717B00>, 'momentum': 0.9, 'nesterov': False, 'patience': 200, 'test_size': 0.3})\n",
      "(1.450700310898468, {'activation': 'sigmoid', 'batch_size': 64, 'dropout': [0.5, 0.5, 0.5], 'epoch': 5000, 'l2_lambda': None, 'layers': (40, 80, 2), 'lr': 0.001, 'lr_sched': <lr_schedulers.StepDecayScheduler object at 0x00000207E5717B00>, 'momentum': 0.9, 'nesterov': True, 'patience': 200, 'test_size': 0.3})\n",
      "(1.451750491635556, {'activation': 'sigmoid', 'batch_size': 64, 'dropout': [0.5, 0.5, 0.5], 'epoch': 5000, 'l2_lambda': None, 'layers': (40, 40, 2), 'lr': 0.0005, 'lr_sched': <lr_schedulers.StepDecayScheduler object at 0x00000207E5717BA8>, 'momentum': 0.9, 'nesterov': False, 'patience': 200, 'test_size': 0.3})\n",
      "(1.454801557474273, {'activation': 'sigmoid', 'batch_size': 128, 'dropout': None, 'epoch': 5000, 'l2_lambda': None, 'layers': (40, 80, 2), 'lr': 0.0005, 'lr_sched': <lr_schedulers.StepDecayScheduler object at 0x00000207E5717BA8>, 'momentum': 0.9, 'nesterov': True, 'patience': 200, 'test_size': 0.3})\n",
      "(1.4577260071123295, {'activation': 'sigmoid', 'batch_size': 64, 'dropout': None, 'epoch': 5000, 'l2_lambda': None, 'layers': (40, 40, 2), 'lr': 0.001, 'lr_sched': <lr_schedulers.StepDecayScheduler object at 0x00000207E5717B70>, 'momentum': 0.9, 'nesterov': False, 'patience': 200, 'test_size': 0.3})\n",
      "(1.469343915048355, {'activation': 'sigmoid', 'batch_size': 64, 'dropout': None, 'epoch': 5000, 'l2_lambda': None, 'layers': (40, 80, 2), 'lr': 0.001, 'lr_sched': <lr_schedulers.StepDecayScheduler object at 0x00000207E5717B70>, 'momentum': 0.9, 'nesterov': True, 'patience': 200, 'test_size': 0.3})\n",
      "(1.4715870627488812, {'activation': 'sigmoid', 'batch_size': 128, 'dropout': None, 'epoch': 5000, 'l2_lambda': None, 'layers': (40, 40, 2), 'lr': 0.001, 'lr_sched': <lr_schedulers.StepDecayScheduler object at 0x00000207E5717BA8>, 'momentum': 0.9, 'nesterov': False, 'patience': 200, 'test_size': 0.3})\n",
      "(1.473659592070912, {'activation': 'sigmoid', 'batch_size': 128, 'dropout': [0.5, 0.5, 0.5], 'epoch': 5000, 'l2_lambda': None, 'layers': (40, 80, 2), 'lr': 0.0005, 'lr_sched': <lr_schedulers.StepDecayScheduler object at 0x00000207E5717B00>, 'momentum': 0.9, 'nesterov': True, 'patience': 200, 'test_size': 0.3})\n",
      "(1.508187486657864, {'activation': 'sigmoid', 'batch_size': 128, 'dropout': None, 'epoch': 5000, 'l2_lambda': None, 'layers': (40, 40, 2), 'lr': 0.001, 'lr_sched': <lr_schedulers.StepDecayScheduler object at 0x00000207E5717B00>, 'momentum': 0.9, 'nesterov': True, 'patience': 200, 'test_size': 0.3})\n",
      "(1.5093912111659449, {'activation': 'sigmoid', 'batch_size': 128, 'dropout': [0.5, 0.5, 0.5], 'epoch': 5000, 'l2_lambda': None, 'layers': (40, 40, 2), 'lr': 0.001, 'lr_sched': <lr_schedulers.StepDecayScheduler object at 0x00000207E5717B70>, 'momentum': 0.9, 'nesterov': True, 'patience': 200, 'test_size': 0.3})\n",
      "(1.5499748723040458, {'activation': 'sigmoid', 'batch_size': 128, 'dropout': None, 'epoch': 5000, 'l2_lambda': None, 'layers': (40, 40, 2), 'lr': 0.001, 'lr_sched': <lr_schedulers.StepDecayScheduler object at 0x00000207E5717B70>, 'momentum': 0.9, 'nesterov': True, 'patience': 200, 'test_size': 0.3})\n",
      "(1.5531818574545768, {'activation': 'sigmoid', 'batch_size': 128, 'dropout': None, 'epoch': 5000, 'l2_lambda': None, 'layers': (40, 40, 2), 'lr': 0.001, 'lr_sched': <lr_schedulers.StepDecayScheduler object at 0x00000207E5717BA8>, 'momentum': 0.9, 'nesterov': True, 'patience': 200, 'test_size': 0.3})\n",
      "(1.5804088690364366, {'activation': 'sigmoid', 'batch_size': 128, 'dropout': [0.5, 0.5, 0.5], 'epoch': 5000, 'l2_lambda': None, 'layers': (40, 80, 2), 'lr': 0.001, 'lr_sched': <lr_schedulers.StepDecayScheduler object at 0x00000207E5717BA8>, 'momentum': 0.9, 'nesterov': False, 'patience': 200, 'test_size': 0.3})\n",
      "(1.5873200028510668, {'activation': 'sigmoid', 'batch_size': 128, 'dropout': [0.5, 0.5, 0.5], 'epoch': 5000, 'l2_lambda': None, 'layers': (40, 40, 2), 'lr': 0.001, 'lr_sched': <lr_schedulers.StepDecayScheduler object at 0x00000207E5717BA8>, 'momentum': 0.9, 'nesterov': False, 'patience': 200, 'test_size': 0.3})\n",
      "(1.6144722143574428, {'activation': 'sigmoid', 'batch_size': 128, 'dropout': [0.5, 0.5, 0.5], 'epoch': 5000, 'l2_lambda': None, 'layers': (40, 40, 2), 'lr': 0.001, 'lr_sched': <lr_schedulers.StepDecayScheduler object at 0x00000207E5717BA8>, 'momentum': 0.9, 'nesterov': True, 'patience': 200, 'test_size': 0.3})\n",
      "(1.6464027129724201, {'activation': 'sigmoid', 'batch_size': 128, 'dropout': None, 'epoch': 5000, 'l2_lambda': None, 'layers': (40, 80, 2), 'lr': 0.001, 'lr_sched': <lr_schedulers.StepDecayScheduler object at 0x00000207E5717B70>, 'momentum': 0.9, 'nesterov': False, 'patience': 200, 'test_size': 0.3})\n",
      "(1.6790424569505733, {'activation': 'sigmoid', 'batch_size': 128, 'dropout': None, 'epoch': 5000, 'l2_lambda': None, 'layers': (40, 80, 2), 'lr': 0.001, 'lr_sched': <lr_schedulers.StepDecayScheduler object at 0x00000207E5717B00>, 'momentum': 0.9, 'nesterov': False, 'patience': 200, 'test_size': 0.3})\n",
      "(1.6851756758442296, {'activation': 'sigmoid', 'batch_size': 128, 'dropout': None, 'epoch': 5000, 'l2_lambda': None, 'layers': (40, 40, 2), 'lr': 0.001, 'lr_sched': <lr_schedulers.StepDecayScheduler object at 0x00000207E5717B00>, 'momentum': 0.9, 'nesterov': False, 'patience': 200, 'test_size': 0.3})\n",
      "(1.7859789419008931, {'activation': 'sigmoid', 'batch_size': 128, 'dropout': [0.5, 0.5, 0.5], 'epoch': 5000, 'l2_lambda': None, 'layers': (40, 80, 2), 'lr': 0.001, 'lr_sched': <lr_schedulers.StepDecayScheduler object at 0x00000207E5717B00>, 'momentum': 0.9, 'nesterov': False, 'patience': 200, 'test_size': 0.3})\n",
      "(1.7986190757330227, {'activation': 'sigmoid', 'batch_size': 128, 'dropout': None, 'epoch': 5000, 'l2_lambda': None, 'layers': (40, 80, 2), 'lr': 0.001, 'lr_sched': <lr_schedulers.StepDecayScheduler object at 0x00000207E5717B00>, 'momentum': 0.9, 'nesterov': True, 'patience': 200, 'test_size': 0.3})\n",
      "(1.8344784973405297, {'activation': 'sigmoid', 'batch_size': 128, 'dropout': None, 'epoch': 5000, 'l2_lambda': None, 'layers': (40, 80, 2), 'lr': 0.001, 'lr_sched': <lr_schedulers.StepDecayScheduler object at 0x00000207E5717BA8>, 'momentum': 0.9, 'nesterov': False, 'patience': 200, 'test_size': 0.3})\n",
      "(1.836747716242546, {'activation': 'sigmoid', 'batch_size': 128, 'dropout': [0.5, 0.5, 0.5], 'epoch': 5000, 'l2_lambda': None, 'layers': (40, 80, 2), 'lr': 0.001, 'lr_sched': <lr_schedulers.StepDecayScheduler object at 0x00000207E5717BA8>, 'momentum': 0.9, 'nesterov': True, 'patience': 200, 'test_size': 0.3})\n",
      "(1.8509061793182526, {'activation': 'sigmoid', 'batch_size': 128, 'dropout': [0.5, 0.5, 0.5], 'epoch': 5000, 'l2_lambda': None, 'layers': (40, 80, 2), 'lr': 0.001, 'lr_sched': <lr_schedulers.StepDecayScheduler object at 0x00000207E5717B70>, 'momentum': 0.9, 'nesterov': True, 'patience': 200, 'test_size': 0.3})\n",
      "(1.8521095186330563, {'activation': 'sigmoid', 'batch_size': 128, 'dropout': [0.5, 0.5, 0.5], 'epoch': 5000, 'l2_lambda': None, 'layers': (40, 80, 2), 'lr': 0.001, 'lr_sched': <lr_schedulers.StepDecayScheduler object at 0x00000207E5717B00>, 'momentum': 0.9, 'nesterov': True, 'patience': 200, 'test_size': 0.3})\n",
      "(1.954987741209754, {'activation': 'sigmoid', 'batch_size': 128, 'dropout': [0.5, 0.5, 0.5], 'epoch': 5000, 'l2_lambda': None, 'layers': (40, 40, 2), 'lr': 0.001, 'lr_sched': <lr_schedulers.StepDecayScheduler object at 0x00000207E5717B00>, 'momentum': 0.9, 'nesterov': True, 'patience': 200, 'test_size': 0.3})\n",
      "(1.9960138322059502, {'activation': 'sigmoid', 'batch_size': 128, 'dropout': None, 'epoch': 5000, 'l2_lambda': None, 'layers': (40, 80, 2), 'lr': 0.001, 'lr_sched': <lr_schedulers.StepDecayScheduler object at 0x00000207E5717B70>, 'momentum': 0.9, 'nesterov': True, 'patience': 200, 'test_size': 0.3})\n",
      "(1.996349339470899, {'activation': 'sigmoid', 'batch_size': 128, 'dropout': None, 'epoch': 5000, 'l2_lambda': None, 'layers': (40, 80, 2), 'lr': 0.001, 'lr_sched': <lr_schedulers.StepDecayScheduler object at 0x00000207E5717BA8>, 'momentum': 0.9, 'nesterov': True, 'patience': 200, 'test_size': 0.3})\n"
     ]
    }
   ],
   "source": [
    "import pickle\n",
    "with open('40units_cup_results.pkl', 'rb') as inputfile:\n",
    "    res = pickle.load(inputfile)\n",
    "    res.sort(key=lambda x: x[0])\n",
    "    for result in res:\n",
    "        print(result)"
   ]
  },
  {
   "cell_type": "code",
   "execution_count": null,
   "metadata": {},
   "outputs": [],
   "source": []
  }
 ],
 "metadata": {
  "kernelspec": {
   "display_name": "Python 3",
   "language": "python",
   "name": "python3"
  },
  "language_info": {
   "codemirror_mode": {
    "name": "ipython",
    "version": 3
   },
   "file_extension": ".py",
   "mimetype": "text/x-python",
   "name": "python",
   "nbconvert_exporter": "python",
   "pygments_lexer": "ipython3",
   "version": "3.7.2"
  }
 },
 "nbformat": 4,
 "nbformat_minor": 2
}

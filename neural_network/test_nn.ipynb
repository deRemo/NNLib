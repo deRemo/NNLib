{
 "cells": [
  {
   "cell_type": "code",
   "execution_count": 1,
   "metadata": {},
   "outputs": [],
   "source": [
    "from neural_network import NeuralNetwork\n",
    "from sgd import SGD\n",
    "from quickprop import Quickprop\n",
    "from rprop import Rprop\n",
    "from lr_schedulers import ExponentialDecayScheduler, TimeBasedScheduler, StepDecayScheduler\n",
    "import numpy as np\n",
    "from sklearn.metrics import accuracy_score"
   ]
  },
  {
   "cell_type": "code",
   "execution_count": 2,
   "metadata": {},
   "outputs": [],
   "source": [
    "#MONK1 PROBLEM\n",
    "\n",
    "train_set = np.genfromtxt(\"../monks/monks1-train.txt\", delimiter=\" \", dtype=\"int\")[:,1:-1] #rimuove la colonna nan alla fine\n",
    "train_targets = np.genfromtxt(\"../monks/monks1-train.txt\", delimiter=\" \", dtype=\"int\")[:,:1]\n",
    "\n",
    "test_set = np.genfromtxt(\"../monks/monks1-test.txt\", delimiter=\" \", dtype=\"int\") [:,1:-1] #rimuove targets e colonna nan \n",
    "test_targets = np.genfromtxt(\"../monks/monks1-test.txt\", delimiter=\" \", dtype=\"int\") [:,0:1]"
   ]
  },
  {
   "cell_type": "code",
   "execution_count": 15,
   "metadata": {
    "scrolled": true
   },
   "outputs": [
    {
     "name": "stdout",
     "output_type": "stream",
     "text": [
      "Accuracy improved at epoch  1 :  0.4722222222222222\n",
      "Accuracy improved at epoch  2 :  0.5277777777777778\n",
      "Accuracy improved at epoch  3 :  0.5555555555555556\n",
      "Accuracy improved at epoch  4 :  0.5833333333333334\n",
      "Accuracy improved at epoch  5 :  0.6388888888888888\n",
      "Accuracy improved at epoch  6 :  0.6666666666666666\n",
      "Accuracy improved at epoch  7 :  0.6944444444444444\n",
      "Accuracy improved at epoch  9 :  0.7777777777777778\n",
      "Accuracy improved at epoch  11 :  0.8333333333333334\n",
      "Accuracy improved at epoch  12 :  0.8888888888888888\n",
      "Accuracy improved at epoch  14 :  0.9166666666666666\n",
      "Accuracy improved at epoch  15 :  0.9444444444444444\n",
      "Accuracy improved at epoch  17 :  0.9722222222222222\n",
      "Accuracy improved at epoch  19 :  1.0\n"
     ]
    },
    {
     "data": {
      "text/plain": [
       "<neural_network.NeuralNetwork at 0x1c1e52d72b0>"
      ]
     },
     "execution_count": 15,
     "metadata": {},
     "output_type": "execute_result"
    }
   ],
   "source": [
    "nn = NeuralNetwork()\n",
    "nn.add_layer('dense', 15, 'sigmoid', train_set.shape[1]) #input layer\n",
    "nn.add_layer('dense', 10, 'sigmoid')\n",
    "nn.add_layer('dense', 1, 'sigmoid')\n",
    "nn.compile(optimizer=SGD(lr_init=0.1, momentum=0.9, nesterov=True, lr_sched=StepDecayScheduler(drop=0.4, epochs_drop=50)))\n",
    "\n",
    "nn.fit(train_set, train_targets, batch_size=8, test_size=0.3, epochs=5000, patience=200, save_stats=None, save_model='best_nn_monk1_tmp', verbose=True) #lr=0.05 test_size=0.5 epochs=2000"
   ]
  },
  {
   "cell_type": "code",
   "execution_count": 16,
   "metadata": {},
   "outputs": [
    {
     "data": {
      "text/plain": [
       "0.9907407407407407"
      ]
     },
     "execution_count": 16,
     "metadata": {},
     "output_type": "execute_result"
    }
   ],
   "source": [
    "prediction = nn.predict(test_set)\n",
    "accuracy_score(test_targets, prediction)"
   ]
  },
  {
   "cell_type": "code",
   "execution_count": 17,
   "metadata": {},
   "outputs": [],
   "source": [
    "#MONK2 PROBLEM\n",
    "\n",
    "train_set = np.genfromtxt(\"../monks/monks2-train.txt\", delimiter=\" \", dtype=\"int\")[:,1:-1] #rimuove la colonna nan alla fine\n",
    "train_targets = np.genfromtxt(\"../monks/monks2-train.txt\", delimiter=\" \", dtype=\"int\")[:,:1]\n",
    "\n",
    "test_set = np.genfromtxt(\"../monks/monks2-test.txt\", delimiter=\" \", dtype=\"int\") [:,1:-1] #rimuove targets e colonna nan \n",
    "test_targets = np.genfromtxt(\"../monks/monks2-test.txt\", delimiter=\" \", dtype=\"int\") [:,0:1]"
   ]
  },
  {
   "cell_type": "code",
   "execution_count": 57,
   "metadata": {
    "scrolled": true
   },
   "outputs": [
    {
     "name": "stdout",
     "output_type": "stream",
     "text": [
      "Accuracy improved at epoch  1 :  0.5476190476190477\n",
      "Accuracy improved at epoch  2 :  0.6190476190476191\n"
     ]
    },
    {
     "data": {
      "text/plain": [
       "<neural_network.NeuralNetwork at 0x1c1e52b82b0>"
      ]
     },
     "execution_count": 57,
     "metadata": {},
     "output_type": "execute_result"
    }
   ],
   "source": [
    "nn = NeuralNetwork()\n",
    "nn.add_layer('dense', 10, 'sigmoid', train_set.shape[1]) #input layer\n",
    "nn.add_layer('dense', 10, 'sigmoid') #input layer\n",
    "nn.add_layer('dense', 1, 'sigmoid')\n",
    "nn.compile(optimizer=SGD(lr_init=0.1, momentum=0.7, nesterov=True, lr_sched=StepDecayScheduler(drop=0.5, epochs_drop=15)))\n",
    "\n",
    "nn.fit(train_set, train_targets, batch_size=8, test_size=0.5, epochs=5000, patience=200, save_model='best_nn_monk2_tmp', verbose=True)"
   ]
  },
  {
   "cell_type": "code",
   "execution_count": 43,
   "metadata": {},
   "outputs": [
    {
     "data": {
      "text/plain": [
       "0.7291666666666666"
      ]
     },
     "execution_count": 43,
     "metadata": {},
     "output_type": "execute_result"
    }
   ],
   "source": [
    "prediction = nn.predict(test_set)\n",
    "accuracy_score(test_targets, prediction)"
   ]
  },
  {
   "cell_type": "code",
   "execution_count": 143,
   "metadata": {},
   "outputs": [],
   "source": [
    "#MONK3 PROBLEM\n",
    "\n",
    "train_set = np.genfromtxt(\"../monks/monks3-train.txt\", delimiter=\" \", dtype=\"int\")[:,1:-1] #rimuove la colonna nan alla fine\n",
    "train_targets = np.genfromtxt(\"../monks/monks3-train.txt\", delimiter=\" \", dtype=\"int\")[:,:1]\n",
    "\n",
    "test_set = np.genfromtxt(\"../monks/monks3-test.txt\", delimiter=\" \", dtype=\"int\") [:,1:-1] #rimuove targets e colonna nan \n",
    "test_targets = np.genfromtxt(\"../monks/monks3-test.txt\", delimiter=\" \", dtype=\"int\") [:,0:1]"
   ]
  },
  {
   "cell_type": "code",
   "execution_count": 225,
   "metadata": {},
   "outputs": [
    {
     "name": "stdout",
     "output_type": "stream",
     "text": [
      "Accuracy improved at epoch  1 :  0.5081967213114754\n",
      "Accuracy improved at epoch  2 :  0.7213114754098361\n",
      "Accuracy improved at epoch  3 :  0.8032786885245902\n",
      "Accuracy improved at epoch  6 :  0.8852459016393442\n",
      "Accuracy improved at epoch  14 :  0.9016393442622951\n",
      "Accuracy improved at epoch  15 :  0.9344262295081968\n",
      "Accuracy improved at epoch  30 :  0.9508196721311475\n"
     ]
    },
    {
     "data": {
      "text/plain": [
       "<neural_network.NeuralNetwork at 0x1c1e6604860>"
      ]
     },
     "execution_count": 225,
     "metadata": {},
     "output_type": "execute_result"
    }
   ],
   "source": [
    "nn = NeuralNetwork()\n",
    "nn.add_layer('dense', 40, 'sigmoid', train_set.shape[1]) #input layer\n",
    "nn.add_layer('dense', 30, 'sigmoid') #input layer\n",
    "nn.add_layer('dense', 1, 'sigmoid')\n",
    "nn.compile(optimizer=SGD(lr_init=0.25, momentum=0.8, nesterov=False, lr_sched=StepDecayScheduler(drop=0.1, epochs_drop=15)))\n",
    "\n",
    "nn.fit(train_set, train_targets, batch_size=16, test_size=0.5, epochs=5000, patience=200, save_model='best_nn_monk3_tmp', verbose=True)"
   ]
  },
  {
   "cell_type": "code",
   "execution_count": 226,
   "metadata": {},
   "outputs": [
    {
     "data": {
      "text/plain": [
       "0.8680555555555556"
      ]
     },
     "execution_count": 226,
     "metadata": {},
     "output_type": "execute_result"
    }
   ],
   "source": [
    "prediction = nn.predict(test_set)\n",
    "accuracy_score(test_targets, prediction)"
   ]
  },
  {
   "cell_type": "code",
   "execution_count": null,
   "metadata": {},
   "outputs": [],
   "source": []
  },
  {
   "cell_type": "code",
   "execution_count": null,
   "metadata": {},
   "outputs": [],
   "source": []
  }
 ],
 "metadata": {
  "kernelspec": {
   "display_name": "Python 3",
   "language": "python",
   "name": "python3"
  },
  "language_info": {
   "codemirror_mode": {
    "name": "ipython",
    "version": 3
   },
   "file_extension": ".py",
   "mimetype": "text/x-python",
   "name": "python",
   "nbconvert_exporter": "python",
   "pygments_lexer": "ipython3",
   "version": "3.7.2"
  }
 },
 "nbformat": 4,
 "nbformat_minor": 2
}
